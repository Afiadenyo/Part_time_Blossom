{
 "cells": [
  {
   "cell_type": "markdown",
   "id": "1971db0e",
   "metadata": {},
   "source": [
    "### Q1\n",
    "List the basic data types in python and give one example each."
   ]
  },
  {
   "cell_type": "code",
   "execution_count": null,
   "id": "6c25a697",
   "metadata": {},
   "outputs": [],
   "source": [
    "# The basic data types in python are:\n",
    "1. Integers eg. 23\n",
    "2. Float eg. 23.45\n",
    "3. Boolean eg. True\n",
    "4. String eg. \"cars\""
   ]
  },
  {
   "cell_type": "markdown",
   "id": "4a2be5ba",
   "metadata": {},
   "source": [
    "### Q2\n",
    "Change the variable x = 4539.85 to :\n",
    "\n",
    "(i) a string and assign it to a new variable y,\n",
    "\n",
    "(ii) an integer and assign it to a new variable z\n",
    "\n",
    "Print out the type of y and z."
   ]
  },
  {
   "cell_type": "code",
   "execution_count": 40,
   "id": "0f6182cc",
   "metadata": {},
   "outputs": [],
   "source": [
    "x = 4539.85"
   ]
  },
  {
   "cell_type": "code",
   "execution_count": 45,
   "id": "4f69aaca",
   "metadata": {},
   "outputs": [
    {
     "name": "stdout",
     "output_type": "stream",
     "text": [
      "4539.85\n"
     ]
    },
    {
     "data": {
      "text/plain": [
       "str"
      ]
     },
     "execution_count": 45,
     "metadata": {},
     "output_type": "execute_result"
    }
   ],
   "source": [
    "y = str(x)\n",
    "print(y)\n",
    "type(y)"
   ]
  },
  {
   "cell_type": "code",
   "execution_count": 46,
   "id": "15ee5301",
   "metadata": {},
   "outputs": [
    {
     "name": "stdout",
     "output_type": "stream",
     "text": [
      "4539\n"
     ]
    },
    {
     "data": {
      "text/plain": [
       "int"
      ]
     },
     "execution_count": 46,
     "metadata": {},
     "output_type": "execute_result"
    }
   ],
   "source": [
    "z = int(x)\n",
    "print(z)\n",
    "type(z)"
   ]
  },
  {
   "cell_type": "markdown",
   "id": "81a1251c",
   "metadata": {},
   "source": [
    "### Q3\n",
    "\n",
    "What data type would you use to store\n",
    "\n",
    "a. The price of car? \n",
    "\n",
    "b. The age of a person\n",
    "\n",
    "c. car plate number: plateNumber = \"AV01-AFP\"? \n",
    "\n",
    "d. The price of fuel  \n",
    "\n",
    "e. The number of students in the class  \n",
    "\n",
    "f. The weight of a person  \n",
    "\n",
    "g. Check whether two figures are equal  \n",
    "\n",
    "i. The name of a  school \n",
    "\n",
    "j. The average result of the overall score of a student \n",
    "\n",
    "k. The total number of vote cast \n",
    "\n"
   ]
  },
  {
   "cell_type": "code",
   "execution_count": null,
   "id": "630b1df2",
   "metadata": {},
   "outputs": [],
   "source": [
    "a. Float"
   ]
  },
  {
   "cell_type": "code",
   "execution_count": null,
   "id": "bfe0ac71",
   "metadata": {},
   "outputs": [],
   "source": [
    "b. Integer"
   ]
  },
  {
   "cell_type": "code",
   "execution_count": null,
   "id": "09f327af",
   "metadata": {},
   "outputs": [],
   "source": [
    "c. String"
   ]
  },
  {
   "cell_type": "code",
   "execution_count": null,
   "id": "0e7d508f",
   "metadata": {},
   "outputs": [],
   "source": [
    "d. Float"
   ]
  },
  {
   "cell_type": "code",
   "execution_count": null,
   "id": "9c56a44c",
   "metadata": {},
   "outputs": [],
   "source": [
    "e. Integer"
   ]
  },
  {
   "cell_type": "code",
   "execution_count": null,
   "id": "07ac9219",
   "metadata": {},
   "outputs": [],
   "source": [
    "f. Float"
   ]
  },
  {
   "cell_type": "code",
   "execution_count": null,
   "id": "cf0d7493",
   "metadata": {},
   "outputs": [],
   "source": [
    "g. Boolean"
   ]
  },
  {
   "cell_type": "code",
   "execution_count": null,
   "id": "0a3a3c85",
   "metadata": {},
   "outputs": [],
   "source": [
    "i. String"
   ]
  },
  {
   "cell_type": "code",
   "execution_count": null,
   "id": "dc9be394",
   "metadata": {},
   "outputs": [],
   "source": [
    "j. Float"
   ]
  },
  {
   "cell_type": "code",
   "execution_count": null,
   "id": "4dfe164e",
   "metadata": {},
   "outputs": [],
   "source": [
    "k. Integer"
   ]
  },
  {
   "cell_type": "markdown",
   "id": "f0694362",
   "metadata": {},
   "source": [
    "### Q4\n",
    "**Thomas Partey is arguably the best player in the Black Stars. He is a great addition to the team**\n",
    "\n",
    "Split the statement above into **two statement_1** and **statement_2** such that statement_1 will be 'Thomas Partey is arguably the best player in the Black Stars' and statement_2 will be 'He is a great addition to the team'\n",
    "\n",
    "Statement:\n",
    "\n",
    "- **What is the length of statment 1?**\n",
    "-**What is the length of statment 2?**\n",
    "-**Is the length of statement 1 greater than statement 2**\n"
   ]
  },
  {
   "cell_type": "code",
   "execution_count": 48,
   "id": "7d15aede",
   "metadata": {},
   "outputs": [],
   "source": [
    "statement = \"Thomas Partey is arguably the best player in the Black Stars. He is a great additon to the team\""
   ]
  },
  {
   "cell_type": "code",
   "execution_count": 55,
   "id": "9ecaa4a8",
   "metadata": {},
   "outputs": [
    {
     "data": {
      "text/plain": [
       "'Thomas Partey is arguably the best player in the Black Stars'"
      ]
     },
     "execution_count": 55,
     "metadata": {},
     "output_type": "execute_result"
    }
   ],
   "source": [
    "statement_1 = statement[:60]\n",
    "statement_1"
   ]
  },
  {
   "cell_type": "code",
   "execution_count": 60,
   "id": "27a567b7",
   "metadata": {},
   "outputs": [
    {
     "data": {
      "text/plain": [
       "' He is a great additon to the team'"
      ]
     },
     "execution_count": 60,
     "metadata": {},
     "output_type": "execute_result"
    }
   ],
   "source": [
    "statement_2 = statement[61:]\n",
    "statement_2"
   ]
  },
  {
   "cell_type": "code",
   "execution_count": 61,
   "id": "c143bf20",
   "metadata": {},
   "outputs": [
    {
     "data": {
      "text/plain": [
       "60"
      ]
     },
     "execution_count": 61,
     "metadata": {},
     "output_type": "execute_result"
    }
   ],
   "source": [
    "len(statement_1)"
   ]
  },
  {
   "cell_type": "code",
   "execution_count": 62,
   "id": "e26205de",
   "metadata": {},
   "outputs": [
    {
     "data": {
      "text/plain": [
       "34"
      ]
     },
     "execution_count": 62,
     "metadata": {},
     "output_type": "execute_result"
    }
   ],
   "source": [
    "len(statement_2)"
   ]
  },
  {
   "cell_type": "code",
   "execution_count": 63,
   "id": "11d29be2",
   "metadata": {},
   "outputs": [
    {
     "data": {
      "text/plain": [
       "True"
      ]
     },
     "execution_count": 63,
     "metadata": {},
     "output_type": "execute_result"
    }
   ],
   "source": [
    " len(statement_1) > len(statement_2)"
   ]
  },
  {
   "cell_type": "markdown",
   "id": "ceb46447",
   "metadata": {},
   "source": [
    "### Q5\n",
    "What values does python use to represent **True** and **False** respectively?"
   ]
  },
  {
   "cell_type": "code",
   "execution_count": null,
   "id": "adc9dba5",
   "metadata": {},
   "outputs": [],
   "source": [
    "True represents 1"
   ]
  },
  {
   "cell_type": "code",
   "execution_count": null,
   "id": "403854a6",
   "metadata": {},
   "outputs": [],
   "source": [
    "False represents 0"
   ]
  },
  {
   "cell_type": "code",
   "execution_count": null,
   "id": "5a874ff2",
   "metadata": {},
   "outputs": [],
   "source": []
  },
  {
   "cell_type": "markdown",
   "id": "e4cc9b15",
   "metadata": {},
   "source": [
    "### Q6\n",
    "Write a code to evaluate if the following statments are True or False.\n",
    "\n",
    "1. 78 is greater than 46 and less than 30 which is an odd number.\n",
    "\n",
    "2. 8-2 is an even number or 8 is a is an odd number.\n",
    "\n",
    "3. The number of characters in the word 'boostrap' is 7 and that of 'sample' is 6."
   ]
  },
  {
   "cell_type": "code",
   "execution_count": 68,
   "id": "1d4019c4",
   "metadata": {},
   "outputs": [
    {
     "data": {
      "text/plain": [
       "False"
      ]
     },
     "execution_count": 68,
     "metadata": {},
     "output_type": "execute_result"
    }
   ],
   "source": [
    "78 > 46 and 78 > 30%2 !=0   "
   ]
  },
  {
   "cell_type": "code",
   "execution_count": 67,
   "id": "b1f0941c",
   "metadata": {},
   "outputs": [
    {
     "data": {
      "text/plain": [
       "False"
      ]
     },
     "execution_count": 67,
     "metadata": {},
     "output_type": "execute_result"
    }
   ],
   "source": [
    "8-2 % 2 == 0 or 8 % 2 != 0"
   ]
  },
  {
   "cell_type": "code",
   "execution_count": 69,
   "id": "de83cef4",
   "metadata": {},
   "outputs": [
    {
     "data": {
      "text/plain": [
       "False"
      ]
     },
     "execution_count": 69,
     "metadata": {},
     "output_type": "execute_result"
    }
   ],
   "source": [
    "len(\"boostrap\") == 7 and len(\"sample\") ==6"
   ]
  },
  {
   "cell_type": "markdown",
   "id": "bc13f9fc",
   "metadata": {},
   "source": [
    "### Q7\n",
    "Given the following python code,\n",
    "\n",
    "`word='Hello, How are you?'`\n",
    "\n",
    "Write Python code to return the following\n",
    "\n",
    "- How\n",
    "- How are you\n",
    "- are\n",
    "- ?\n",
    "- Hello, How are you\n",
    "\n",
    "\n",
    " "
   ]
  },
  {
   "cell_type": "code",
   "execution_count": 31,
   "id": "05b689ef",
   "metadata": {},
   "outputs": [],
   "source": [
    "word='Hello, How are you?'"
   ]
  },
  {
   "cell_type": "code",
   "execution_count": 33,
   "id": "98d279ad",
   "metadata": {},
   "outputs": [
    {
     "data": {
      "text/plain": [
       "'How'"
      ]
     },
     "execution_count": 33,
     "metadata": {},
     "output_type": "execute_result"
    }
   ],
   "source": [
    "word[7:10]"
   ]
  },
  {
   "cell_type": "code",
   "execution_count": 34,
   "id": "7e0e771e",
   "metadata": {},
   "outputs": [
    {
     "data": {
      "text/plain": [
       "'How are you?'"
      ]
     },
     "execution_count": 34,
     "metadata": {},
     "output_type": "execute_result"
    }
   ],
   "source": [
    "word[7:]"
   ]
  },
  {
   "cell_type": "code",
   "execution_count": 35,
   "id": "3c715bb8",
   "metadata": {},
   "outputs": [
    {
     "data": {
      "text/plain": [
       "'are'"
      ]
     },
     "execution_count": 35,
     "metadata": {},
     "output_type": "execute_result"
    }
   ],
   "source": [
    "word[11:14]"
   ]
  },
  {
   "cell_type": "code",
   "execution_count": 36,
   "id": "ab65030d",
   "metadata": {},
   "outputs": [
    {
     "data": {
      "text/plain": [
       "'?'"
      ]
     },
     "execution_count": 36,
     "metadata": {},
     "output_type": "execute_result"
    }
   ],
   "source": [
    "word[-1]"
   ]
  },
  {
   "cell_type": "code",
   "execution_count": 39,
   "id": "a7ceaf73",
   "metadata": {},
   "outputs": [
    {
     "data": {
      "text/plain": [
       "'Hello, How are you'"
      ]
     },
     "execution_count": 39,
     "metadata": {},
     "output_type": "execute_result"
    }
   ],
   "source": [
    "word[:-1]"
   ]
  },
  {
   "cell_type": "markdown",
   "id": "e4167de5",
   "metadata": {},
   "source": [
    "### Q8\n",
    "Given the following python code,\n",
    "\n",
    "`sentence = \"I am very excited\"`\n",
    "\n",
    "Write Python code to return \n",
    "- Convert sentence to upper case\n",
    "- Convert sentence to lower case\n",
    "- Convert sentence to title case\n",
    "- Convert sentence to list of strings\n",
    " "
   ]
  },
  {
   "cell_type": "code",
   "execution_count": 24,
   "id": "c7facdbc",
   "metadata": {},
   "outputs": [],
   "source": [
    "sentence = \"I am very excited\""
   ]
  },
  {
   "cell_type": "code",
   "execution_count": 25,
   "id": "95a46945",
   "metadata": {},
   "outputs": [
    {
     "data": {
      "text/plain": [
       "'I AM VERY EXCITED'"
      ]
     },
     "execution_count": 25,
     "metadata": {},
     "output_type": "execute_result"
    }
   ],
   "source": [
    "sentence.upper()"
   ]
  },
  {
   "cell_type": "code",
   "execution_count": 26,
   "id": "b31de46a",
   "metadata": {},
   "outputs": [
    {
     "data": {
      "text/plain": [
       "'i am very excited'"
      ]
     },
     "execution_count": 26,
     "metadata": {},
     "output_type": "execute_result"
    }
   ],
   "source": [
    "sentence.lower()"
   ]
  },
  {
   "cell_type": "code",
   "execution_count": 28,
   "id": "926019e0",
   "metadata": {},
   "outputs": [
    {
     "data": {
      "text/plain": [
       "'I Am Very Excited'"
      ]
     },
     "execution_count": 28,
     "metadata": {},
     "output_type": "execute_result"
    }
   ],
   "source": [
    "sentence.title()"
   ]
  },
  {
   "cell_type": "code",
   "execution_count": 30,
   "id": "65c4dfb0",
   "metadata": {},
   "outputs": [
    {
     "data": {
      "text/plain": [
       "list"
      ]
     },
     "execution_count": 30,
     "metadata": {},
     "output_type": "execute_result"
    }
   ],
   "source": [
    "list_sen = list(sentence)\n",
    "type(list_sen)"
   ]
  },
  {
   "cell_type": "markdown",
   "id": "4faf0134",
   "metadata": {},
   "source": [
    "### Q9\n",
    "`word = 'OneThirtyEight'`\n",
    "\n",
    "Using Python code extract the following from the variable word:\n",
    "- One\n",
    "- Thirty\n",
    "- Eight\n",
    "- OneThirty\n",
    "- ThirtyEight\n",
    "- ONETHIRTYEIGHT"
   ]
  },
  {
   "cell_type": "code",
   "execution_count": 13,
   "id": "e6c7033a",
   "metadata": {},
   "outputs": [],
   "source": [
    "word = \"oneThirtyEight\"\n"
   ]
  },
  {
   "cell_type": "code",
   "execution_count": 14,
   "id": "2b237176",
   "metadata": {},
   "outputs": [
    {
     "data": {
      "text/plain": [
       "'one'"
      ]
     },
     "execution_count": 14,
     "metadata": {},
     "output_type": "execute_result"
    }
   ],
   "source": [
    "word[:3]"
   ]
  },
  {
   "cell_type": "code",
   "execution_count": 15,
   "id": "f933cd72",
   "metadata": {},
   "outputs": [
    {
     "data": {
      "text/plain": [
       "'Thirty'"
      ]
     },
     "execution_count": 15,
     "metadata": {},
     "output_type": "execute_result"
    }
   ],
   "source": [
    "word[3:9]"
   ]
  },
  {
   "cell_type": "code",
   "execution_count": 16,
   "id": "0bc107da",
   "metadata": {},
   "outputs": [
    {
     "data": {
      "text/plain": [
       "'Eight'"
      ]
     },
     "execution_count": 16,
     "metadata": {},
     "output_type": "execute_result"
    }
   ],
   "source": [
    "word[9:]"
   ]
  },
  {
   "cell_type": "code",
   "execution_count": 17,
   "id": "98a7ca72",
   "metadata": {},
   "outputs": [
    {
     "data": {
      "text/plain": [
       "'oneThirty'"
      ]
     },
     "execution_count": 17,
     "metadata": {},
     "output_type": "execute_result"
    }
   ],
   "source": [
    "word[:9]"
   ]
  },
  {
   "cell_type": "code",
   "execution_count": 18,
   "id": "953fafb5",
   "metadata": {},
   "outputs": [
    {
     "data": {
      "text/plain": [
       "'ThirtyEight'"
      ]
     },
     "execution_count": 18,
     "metadata": {},
     "output_type": "execute_result"
    }
   ],
   "source": [
    "word[3:]"
   ]
  },
  {
   "cell_type": "code",
   "execution_count": 19,
   "id": "d59ee512",
   "metadata": {},
   "outputs": [
    {
     "data": {
      "text/plain": [
       "'ONETHIRTYEIGHT'"
      ]
     },
     "execution_count": 19,
     "metadata": {},
     "output_type": "execute_result"
    }
   ],
   "source": [
    "a = word[0:]\n",
    "a.upper()"
   ]
  },
  {
   "cell_type": "markdown",
   "id": "2a4eea1f",
   "metadata": {},
   "source": [
    "### Q10\n",
    "Turn Ault'Kelly into a string and assign it to a variable  called name."
   ]
  },
  {
   "cell_type": "code",
   "execution_count": 22,
   "id": "aa2f0a08",
   "metadata": {},
   "outputs": [
    {
     "data": {
      "text/plain": [
       "\"Ault'Kelly\""
      ]
     },
     "execution_count": 22,
     "metadata": {},
     "output_type": "execute_result"
    }
   ],
   "source": [
    "name = str(\"Ault'Kelly\")\n",
    "name"
   ]
  }
 ],
 "metadata": {
  "kernelspec": {
   "display_name": "Python 3 (ipykernel)",
   "language": "python",
   "name": "python3"
  },
  "language_info": {
   "codemirror_mode": {
    "name": "ipython",
    "version": 3
   },
   "file_extension": ".py",
   "mimetype": "text/x-python",
   "name": "python",
   "nbconvert_exporter": "python",
   "pygments_lexer": "ipython3",
   "version": "3.9.13"
  }
 },
 "nbformat": 4,
 "nbformat_minor": 5
}
