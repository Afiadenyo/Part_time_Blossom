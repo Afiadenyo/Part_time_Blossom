{
 "cells": [
  {
   "cell_type": "markdown",
   "id": "3c2e90df",
   "metadata": {},
   "source": [
    "### Q1\n",
    "\n",
    "Name the four built-in data structures in python. Give one examples for each"
   ]
  },
  {
   "cell_type": "code",
   "execution_count": null,
   "id": "10189942",
   "metadata": {},
   "outputs": [],
   "source": [
    "Set eg. A = {1,2,3,4}\n",
    "Tuple eg. A = (1,2,3,4,5)\n",
    "List eg. A = [1,2,3,4]\n",
    "Dictionary A ={\"cars\":4, \"trains\":2, \"bikes\":15}"
   ]
  },
  {
   "cell_type": "markdown",
   "id": "b6e1dd1b",
   "metadata": {},
   "source": [
    "### Q2\n",
    "\n",
    "State two differences between a list and a tuple in Python."
   ]
  },
  {
   "cell_type": "code",
   "execution_count": null,
   "id": "edf17dfa",
   "metadata": {},
   "outputs": [],
   "source": [
    "1. List is defined by [] or list() but tuple is defined by tuple() or ()\n",
    "2. Lists are mutable but tuples are immutable"
   ]
  },
  {
   "cell_type": "markdown",
   "id": "815b4e67",
   "metadata": {},
   "source": [
    "### Q3\n",
    "Make a list containing names of five animals with a variable name `animal_list`\n",
    "\n",
    "Write a code for the following:\n",
    "- Print the first two animals\n",
    "- Print the last two animals\n",
    "- Add three extra animals to the variable `animal_list`\n",
    "- Remove the first two animals from the variable `animal_list`\n",
    "- How many animals are in the `animal_list`?\n",
    "- Create a variable animal_set which stores the set of animal_list \n",
    "- How many elements are in the animal_set?\n"
   ]
  },
  {
   "cell_type": "code",
   "execution_count": 26,
   "id": "04f45ee5",
   "metadata": {},
   "outputs": [
    {
     "data": {
      "text/plain": [
       "['goat', 'cow', 'sheep', 'cat', 'dog']"
      ]
     },
     "execution_count": 26,
     "metadata": {},
     "output_type": "execute_result"
    }
   ],
   "source": [
    "animal_list = [\"goat\", \"cow\", \"sheep\", \"cat\", \"dog\"]\n",
    "animal_list"
   ]
  },
  {
   "cell_type": "code",
   "execution_count": 27,
   "id": "da171893",
   "metadata": {},
   "outputs": [
    {
     "name": "stdout",
     "output_type": "stream",
     "text": [
      "['goat', 'cow']\n"
     ]
    }
   ],
   "source": [
    "print(animal_list[:2])"
   ]
  },
  {
   "cell_type": "code",
   "execution_count": 28,
   "id": "fea8b677",
   "metadata": {},
   "outputs": [
    {
     "name": "stdout",
     "output_type": "stream",
     "text": [
      "['cat', 'dog']\n"
     ]
    }
   ],
   "source": [
    "print(animal_list[3:])"
   ]
  },
  {
   "cell_type": "code",
   "execution_count": 29,
   "id": "d29eefa9",
   "metadata": {},
   "outputs": [
    {
     "data": {
      "text/plain": [
       "['goat', 'cow', 'sheep', 'cat', 'dog', 'lion', 'tiger', 'elephant']"
      ]
     },
     "execution_count": 29,
     "metadata": {},
     "output_type": "execute_result"
    }
   ],
   "source": [
    "animal_list.extend([\"lion\", \"tiger\", \"elephant\"])\n",
    "animal_list"
   ]
  },
  {
   "cell_type": "code",
   "execution_count": 30,
   "id": "deed9988",
   "metadata": {},
   "outputs": [
    {
     "data": {
      "text/plain": [
       "['cow', 'sheep', 'cat', 'dog', 'lion', 'tiger', 'elephant']"
      ]
     },
     "execution_count": 30,
     "metadata": {},
     "output_type": "execute_result"
    }
   ],
   "source": [
    "animal_list.remove(\"goat\")\n",
    "animal_list\n"
   ]
  },
  {
   "cell_type": "code",
   "execution_count": 31,
   "id": "fb84fd98",
   "metadata": {},
   "outputs": [
    {
     "data": {
      "text/plain": [
       "['sheep', 'cat', 'dog', 'lion', 'tiger', 'elephant']"
      ]
     },
     "execution_count": 31,
     "metadata": {},
     "output_type": "execute_result"
    }
   ],
   "source": [
    "animal_list.remove(\"cow\")\n",
    "animal_list"
   ]
  },
  {
   "cell_type": "code",
   "execution_count": 34,
   "id": "9f1ee955",
   "metadata": {},
   "outputs": [
    {
     "data": {
      "text/plain": [
       "['sheep', 'cat', 'dog', 'lion', 'tiger', 'elephant']"
      ]
     },
     "execution_count": 34,
     "metadata": {},
     "output_type": "execute_result"
    }
   ],
   "source": [
    "animal_list"
   ]
  },
  {
   "cell_type": "code",
   "execution_count": 35,
   "id": "18e6e8c2",
   "metadata": {},
   "outputs": [
    {
     "data": {
      "text/plain": [
       "6"
      ]
     },
     "execution_count": 35,
     "metadata": {},
     "output_type": "execute_result"
    }
   ],
   "source": [
    "len(animal_list)"
   ]
  },
  {
   "cell_type": "code",
   "execution_count": 32,
   "id": "dc11188f",
   "metadata": {},
   "outputs": [
    {
     "data": {
      "text/plain": [
       "{'cat', 'dog', 'elephant', 'lion', 'sheep', 'tiger'}"
      ]
     },
     "execution_count": 32,
     "metadata": {},
     "output_type": "execute_result"
    }
   ],
   "source": [
    "animal_set = set(animal_list)\n",
    "animal_set"
   ]
  },
  {
   "cell_type": "code",
   "execution_count": 33,
   "id": "8c9c232e",
   "metadata": {},
   "outputs": [
    {
     "data": {
      "text/plain": [
       "6"
      ]
     },
     "execution_count": 33,
     "metadata": {},
     "output_type": "execute_result"
    }
   ],
   "source": [
    "len(animal_set)"
   ]
  },
  {
   "cell_type": "markdown",
   "id": "113c9970",
   "metadata": {},
   "source": [
    "### Q4\n",
    "\n",
    "Given a list:\n",
    "\n",
    "suitcase = [\"sunglasses\", \"hat\", \"passport\", \"laptop\", \"suit\", \"shoes\"]\n",
    "\n",
    "a. Create a list called first containing only the two first items from suitcase.\n",
    "\n",
    "b. Create a list called middle containing only the two middle items from suitcase.\n",
    "\n",
    "c. Create a list called last made up only of the last two items from suitcase."
   ]
  },
  {
   "cell_type": "code",
   "execution_count": 36,
   "id": "653e6a76",
   "metadata": {},
   "outputs": [
    {
     "data": {
      "text/plain": [
       "['sunglasses', 'hat', 'passport', 'laptop', 'suit', 'shoes']"
      ]
     },
     "execution_count": 36,
     "metadata": {},
     "output_type": "execute_result"
    }
   ],
   "source": [
    "suitcase = [\"sunglasses\", \"hat\", \"passport\", \"laptop\", \"suit\", \"shoes\"]\n",
    "suitcase"
   ]
  },
  {
   "cell_type": "code",
   "execution_count": 39,
   "id": "82154eea",
   "metadata": {},
   "outputs": [
    {
     "data": {
      "text/plain": [
       "['sunglasses', 'hat']"
      ]
     },
     "execution_count": 39,
     "metadata": {},
     "output_type": "execute_result"
    }
   ],
   "source": [
    "first = suitcase[:2]\n",
    "first"
   ]
  },
  {
   "cell_type": "code",
   "execution_count": 43,
   "id": "a1d74cc6",
   "metadata": {},
   "outputs": [
    {
     "data": {
      "text/plain": [
       "['passport', 'laptop']"
      ]
     },
     "execution_count": 43,
     "metadata": {},
     "output_type": "execute_result"
    }
   ],
   "source": [
    "middle = suitcase[2:4]\n",
    "middle"
   ]
  },
  {
   "cell_type": "code",
   "execution_count": 44,
   "id": "d9d572ce",
   "metadata": {},
   "outputs": [
    {
     "data": {
      "text/plain": [
       "['suit', 'shoes']"
      ]
     },
     "execution_count": 44,
     "metadata": {},
     "output_type": "execute_result"
    }
   ],
   "source": [
    "last = suitcase[-2:]\n",
    "last"
   ]
  },
  {
   "cell_type": "markdown",
   "id": "711ba044",
   "metadata": {},
   "source": [
    "### Q5\n",
    "Write a python code to insert 35 into the list below. Make sure it is inserted in the right position to maintain the order of the data.\n",
    "\n",
    "`values = [20,25,30,40,45,50,55,60,65,70]`"
   ]
  },
  {
   "cell_type": "code",
   "execution_count": 51,
   "id": "5f4cfa1b",
   "metadata": {},
   "outputs": [
    {
     "data": {
      "text/plain": [
       "[20, 25, 30, 40, 45, 50, 55, 60, 65, 70]"
      ]
     },
     "execution_count": 51,
     "metadata": {},
     "output_type": "execute_result"
    }
   ],
   "source": [
    "values = [20,25,30,40,45,50,55,60,65,70]\n",
    "values"
   ]
  },
  {
   "cell_type": "code",
   "execution_count": 57,
   "id": "2f73f2a3",
   "metadata": {},
   "outputs": [],
   "source": [
    "values.append(35)"
   ]
  },
  {
   "cell_type": "code",
   "execution_count": 58,
   "id": "45ebf417",
   "metadata": {},
   "outputs": [],
   "source": [
    "values.sort()"
   ]
  },
  {
   "cell_type": "code",
   "execution_count": 59,
   "id": "221b12d5",
   "metadata": {},
   "outputs": [
    {
     "data": {
      "text/plain": [
       "[20, 25, 30, 35, 35, 40, 45, 50, 55, 60, 65, 70]"
      ]
     },
     "execution_count": 59,
     "metadata": {},
     "output_type": "execute_result"
    }
   ],
   "source": [
    "values"
   ]
  },
  {
   "cell_type": "markdown",
   "id": "f535cf64",
   "metadata": {},
   "source": [
    "### Q6\n",
    "\n",
    "Given that Python lists and Python tuples are quite similar – when might you prefer to use a tuple over a list?"
   ]
  },
  {
   "cell_type": "code",
   "execution_count": null,
   "id": "d2d9e76a",
   "metadata": {},
   "outputs": [],
   "source": [
    "When I do not want to make changes, I will use a tuple since tuples are immutable."
   ]
  },
  {
   "cell_type": "markdown",
   "id": "346927f6",
   "metadata": {},
   "source": [
    "### Q7\n",
    "Create a dictionary with 5 Ghana regions and their capitals and store it in the variable `region_capital`\n",
    "\n",
    "- Print out the keys of region_capital\n",
    "- Print out the values of region_capital\n"
   ]
  },
  {
   "cell_type": "code",
   "execution_count": 62,
   "id": "a880bb98",
   "metadata": {},
   "outputs": [
    {
     "data": {
      "text/plain": [
       "{'eastern': 'koforidua',\n",
       " 'western': 'takoradi',\n",
       " 'northern': 'tamale',\n",
       " 'volta': 'ho',\n",
       " 'upper west': 'wa'}"
      ]
     },
     "execution_count": 62,
     "metadata": {},
     "output_type": "execute_result"
    }
   ],
   "source": [
    "region_capital = {\"eastern\":\"koforidua\", \"western\":\"takoradi\", \"northern\":\"tamale\", \"volta\":\"ho\", \"upper west\":\"wa\"}\n",
    "region_capital"
   ]
  },
  {
   "cell_type": "code",
   "execution_count": 65,
   "id": "5f9108f9",
   "metadata": {},
   "outputs": [
    {
     "data": {
      "text/plain": [
       "dict_keys(['eastern', 'western', 'northern', 'volta', 'upper west'])"
      ]
     },
     "execution_count": 65,
     "metadata": {},
     "output_type": "execute_result"
    }
   ],
   "source": [
    "region_capital.keys()"
   ]
  },
  {
   "cell_type": "code",
   "execution_count": 66,
   "id": "ab4a599c",
   "metadata": {},
   "outputs": [
    {
     "data": {
      "text/plain": [
       "dict_values(['koforidua', 'takoradi', 'tamale', 'ho', 'wa'])"
      ]
     },
     "execution_count": 66,
     "metadata": {},
     "output_type": "execute_result"
    }
   ],
   "source": [
    "region_capital.values()"
   ]
  },
  {
   "cell_type": "code",
   "execution_count": null,
   "id": "cd2adf36",
   "metadata": {},
   "outputs": [],
   "source": []
  },
  {
   "cell_type": "markdown",
   "id": "70526b3b",
   "metadata": {},
   "source": [
    "### Q8\n",
    "\n",
    "`values = [3,4,5,6,3,4,3,5,2,4,2,5,6,1,6]`\n",
    "\n",
    "Using the codes above answer the following questions:\n",
    "- What is the total number of elements in values?\n",
    "- What is the highest occuring number in the values variable?\n",
    "- Convert values into a set and store it into a variable named `values_set`\n",
    "- How many elements are in the variable values_set?\n"
   ]
  },
  {
   "cell_type": "code",
   "execution_count": 67,
   "id": "2c1007c9",
   "metadata": {},
   "outputs": [
    {
     "data": {
      "text/plain": [
       "[3, 4, 5, 6, 3, 4, 3, 5, 2, 4, 2, 5, 6, 1, 6]"
      ]
     },
     "execution_count": 67,
     "metadata": {},
     "output_type": "execute_result"
    }
   ],
   "source": [
    "values = [3,4,5,6,3,4,3,5,2,4,2,5,6,1,6]\n",
    "values"
   ]
  },
  {
   "cell_type": "code",
   "execution_count": 68,
   "id": "9322e211",
   "metadata": {},
   "outputs": [
    {
     "data": {
      "text/plain": [
       "59"
      ]
     },
     "execution_count": 68,
     "metadata": {},
     "output_type": "execute_result"
    }
   ],
   "source": [
    "sum(values)"
   ]
  },
  {
   "cell_type": "code",
   "execution_count": 69,
   "id": "6eeb2430",
   "metadata": {},
   "outputs": [
    {
     "data": {
      "text/plain": [
       "6"
      ]
     },
     "execution_count": 69,
     "metadata": {},
     "output_type": "execute_result"
    }
   ],
   "source": [
    "max(values)"
   ]
  },
  {
   "cell_type": "code",
   "execution_count": 71,
   "id": "932ddd49",
   "metadata": {},
   "outputs": [
    {
     "data": {
      "text/plain": [
       "{1, 2, 3, 4, 5, 6}"
      ]
     },
     "execution_count": 71,
     "metadata": {},
     "output_type": "execute_result"
    }
   ],
   "source": [
    "values_set = set(values)\n",
    "values_set"
   ]
  },
  {
   "cell_type": "code",
   "execution_count": 73,
   "id": "bfb22709",
   "metadata": {},
   "outputs": [
    {
     "data": {
      "text/plain": [
       "6"
      ]
     },
     "execution_count": 73,
     "metadata": {},
     "output_type": "execute_result"
    }
   ],
   "source": [
    "len(values_set)"
   ]
  },
  {
   "cell_type": "code",
   "execution_count": null,
   "id": "5764717c",
   "metadata": {},
   "outputs": [],
   "source": []
  },
  {
   "cell_type": "markdown",
   "id": "801d5876",
   "metadata": {},
   "source": [
    "### Q9\n",
    "Write a Python script to print a dictionary where the keys are numbers between 1 and 15 (both included) and the values are the square of the keys."
   ]
  },
  {
   "cell_type": "code",
   "execution_count": 74,
   "id": "4bee86a6",
   "metadata": {},
   "outputs": [
    {
     "name": "stdout",
     "output_type": "stream",
     "text": [
      "{1: 1, 2: 4, 3: 9, 4: 16, 5: 25, 6: 36, 7: 49, 8: 64, 9: 81, 10: 100, 11: 121, 12: 144, 13: 169, 14: 196, 15: 225}\n"
     ]
    }
   ],
   "source": [
    "dic = dict()\n",
    "for x in range(1,16):\n",
    "    dic[x]=x**2\n",
    "print(dic) "
   ]
  },
  {
   "cell_type": "markdown",
   "id": "18954e57",
   "metadata": {},
   "source": [
    "### Q10\n",
    "Write a Python program to create a dictionary of keys x, y, and z where each key has as value a list from 11-20, 21-30, and 31-40 respectively. Access the fifth value of each key from the dictionary."
   ]
  },
  {
   "cell_type": "code",
   "execution_count": 93,
   "id": "346bd603",
   "metadata": {},
   "outputs": [
    {
     "name": "stdout",
     "output_type": "stream",
     "text": [
      "{'x': [11, 12, 13, 14, 15, 16, 17, 18, 19, 20], 'y': [21, 22, 23, 24, 25, 26, 27, 28, 29, 30], 'z': [31, 32, 33, 34, 35, 36, 37, 38, 39, 40]}\n"
     ]
    }
   ],
   "source": [
    "d = {'x': [], 'y': [], 'z': []}\n",
    "\n",
    "\n",
    "for key in d:\n",
    "    if key == 'x':\n",
    "        d[key] = list(range(11, 21))\n",
    "    elif key == 'y':\n",
    "        d[key] = list(range(21, 31))\n",
    "    elif key == 'z':\n",
    "        d[key] = list(range(31, 41))\n",
    "\n",
    "\n",
    "print(d)\n"
   ]
  },
  {
   "cell_type": "code",
   "execution_count": null,
   "id": "621a9206",
   "metadata": {},
   "outputs": [],
   "source": []
  }
 ],
 "metadata": {
  "kernelspec": {
   "display_name": "Python 3 (ipykernel)",
   "language": "python",
   "name": "python3"
  },
  "language_info": {
   "codemirror_mode": {
    "name": "ipython",
    "version": 3
   },
   "file_extension": ".py",
   "mimetype": "text/x-python",
   "name": "python",
   "nbconvert_exporter": "python",
   "pygments_lexer": "ipython3",
   "version": "3.9.13"
  }
 },
 "nbformat": 4,
 "nbformat_minor": 5
}
