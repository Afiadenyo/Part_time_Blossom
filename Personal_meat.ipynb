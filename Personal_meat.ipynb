{
 "cells": [
  {
   "cell_type": "markdown",
   "id": "103b6b3d",
   "metadata": {},
   "source": [
    "# Questions\n",
    "- What meat type is mostly consumed\n",
    "- Which country consumed most meat and what type of meat\n",
    "- Which year was most meat consumed\n",
    "- Meat consumption trend per year "
   ]
  },
  {
   "cell_type": "code",
   "execution_count": null,
   "id": "ef6c4c31",
   "metadata": {},
   "outputs": [],
   "source": []
  },
  {
   "cell_type": "code",
   "execution_count": 159,
   "id": "29f4776b",
   "metadata": {},
   "outputs": [],
   "source": [
    "import pandas as pd\n",
    "import numpy as np\n",
    "import seaborn as sns\n",
    "import matplotlib.pyplot as plt"
   ]
  },
  {
   "cell_type": "code",
   "execution_count": 160,
   "id": "a48ea04c",
   "metadata": {},
   "outputs": [],
   "source": [
    "# upload data to be used\n",
    "df = pd.read_csv(\"meat_consumption.csv\")"
   ]
  },
  {
   "cell_type": "code",
   "execution_count": 161,
   "id": "99bc875e",
   "metadata": {},
   "outputs": [
    {
     "data": {
      "text/html": [
       "<div>\n",
       "<style scoped>\n",
       "    .dataframe tbody tr th:only-of-type {\n",
       "        vertical-align: middle;\n",
       "    }\n",
       "\n",
       "    .dataframe tbody tr th {\n",
       "        vertical-align: top;\n",
       "    }\n",
       "\n",
       "    .dataframe thead th {\n",
       "        text-align: right;\n",
       "    }\n",
       "</style>\n",
       "<table border=\"1\" class=\"dataframe\">\n",
       "  <thead>\n",
       "    <tr style=\"text-align: right;\">\n",
       "      <th></th>\n",
       "      <th>location</th>\n",
       "      <th>indicator</th>\n",
       "      <th>subject</th>\n",
       "      <th>measure</th>\n",
       "      <th>frequency</th>\n",
       "      <th>time</th>\n",
       "      <th>value</th>\n",
       "    </tr>\n",
       "  </thead>\n",
       "  <tbody>\n",
       "    <tr>\n",
       "      <th>0</th>\n",
       "      <td>AUS</td>\n",
       "      <td>MEATCONSUMP</td>\n",
       "      <td>BEEF</td>\n",
       "      <td>KG_CAP</td>\n",
       "      <td>A</td>\n",
       "      <td>1990</td>\n",
       "      <td>0.000004</td>\n",
       "    </tr>\n",
       "    <tr>\n",
       "      <th>1</th>\n",
       "      <td>AUS</td>\n",
       "      <td>MEATCONSUMP</td>\n",
       "      <td>BEEF</td>\n",
       "      <td>KG_CAP</td>\n",
       "      <td>A</td>\n",
       "      <td>1991</td>\n",
       "      <td>27.808401</td>\n",
       "    </tr>\n",
       "    <tr>\n",
       "      <th>2</th>\n",
       "      <td>AUS</td>\n",
       "      <td>MEATCONSUMP</td>\n",
       "      <td>BEEF</td>\n",
       "      <td>KG_CAP</td>\n",
       "      <td>A</td>\n",
       "      <td>1992</td>\n",
       "      <td>26.278166</td>\n",
       "    </tr>\n",
       "    <tr>\n",
       "      <th>3</th>\n",
       "      <td>AUS</td>\n",
       "      <td>MEATCONSUMP</td>\n",
       "      <td>BEEF</td>\n",
       "      <td>KG_CAP</td>\n",
       "      <td>A</td>\n",
       "      <td>1993</td>\n",
       "      <td>26.244478</td>\n",
       "    </tr>\n",
       "    <tr>\n",
       "      <th>4</th>\n",
       "      <td>AUS</td>\n",
       "      <td>MEATCONSUMP</td>\n",
       "      <td>BEEF</td>\n",
       "      <td>KG_CAP</td>\n",
       "      <td>A</td>\n",
       "      <td>1994</td>\n",
       "      <td>25.541244</td>\n",
       "    </tr>\n",
       "  </tbody>\n",
       "</table>\n",
       "</div>"
      ],
      "text/plain": [
       "  location    indicator subject measure frequency  time      value\n",
       "0      AUS  MEATCONSUMP    BEEF  KG_CAP         A  1990   0.000004\n",
       "1      AUS  MEATCONSUMP    BEEF  KG_CAP         A  1991  27.808401\n",
       "2      AUS  MEATCONSUMP    BEEF  KG_CAP         A  1992  26.278166\n",
       "3      AUS  MEATCONSUMP    BEEF  KG_CAP         A  1993  26.244478\n",
       "4      AUS  MEATCONSUMP    BEEF  KG_CAP         A  1994  25.541244"
      ]
     },
     "execution_count": 161,
     "metadata": {},
     "output_type": "execute_result"
    }
   ],
   "source": [
    "df.head()"
   ]
  },
  {
   "cell_type": "code",
   "execution_count": 162,
   "id": "eecfb0d8",
   "metadata": {},
   "outputs": [
    {
     "data": {
      "text/html": [
       "<div>\n",
       "<style scoped>\n",
       "    .dataframe tbody tr th:only-of-type {\n",
       "        vertical-align: middle;\n",
       "    }\n",
       "\n",
       "    .dataframe tbody tr th {\n",
       "        vertical-align: top;\n",
       "    }\n",
       "\n",
       "    .dataframe thead th {\n",
       "        text-align: right;\n",
       "    }\n",
       "</style>\n",
       "<table border=\"1\" class=\"dataframe\">\n",
       "  <thead>\n",
       "    <tr style=\"text-align: right;\">\n",
       "      <th></th>\n",
       "      <th>location</th>\n",
       "      <th>indicator</th>\n",
       "      <th>subject</th>\n",
       "      <th>measure</th>\n",
       "      <th>frequency</th>\n",
       "      <th>time</th>\n",
       "      <th>value</th>\n",
       "    </tr>\n",
       "  </thead>\n",
       "  <tbody>\n",
       "    <tr>\n",
       "      <th>12135</th>\n",
       "      <td>EU27</td>\n",
       "      <td>MEATCONSUMP</td>\n",
       "      <td>SHEEP</td>\n",
       "      <td>THND_TONNE</td>\n",
       "      <td>A</td>\n",
       "      <td>2024</td>\n",
       "      <td>732.149998</td>\n",
       "    </tr>\n",
       "    <tr>\n",
       "      <th>12136</th>\n",
       "      <td>EU27</td>\n",
       "      <td>MEATCONSUMP</td>\n",
       "      <td>SHEEP</td>\n",
       "      <td>THND_TONNE</td>\n",
       "      <td>A</td>\n",
       "      <td>2025</td>\n",
       "      <td>737.008238</td>\n",
       "    </tr>\n",
       "    <tr>\n",
       "      <th>12137</th>\n",
       "      <td>EU27</td>\n",
       "      <td>MEATCONSUMP</td>\n",
       "      <td>SHEEP</td>\n",
       "      <td>THND_TONNE</td>\n",
       "      <td>A</td>\n",
       "      <td>2026</td>\n",
       "      <td>741.104095</td>\n",
       "    </tr>\n",
       "    <tr>\n",
       "      <th>12138</th>\n",
       "      <td>EU27</td>\n",
       "      <td>MEATCONSUMP</td>\n",
       "      <td>SHEEP</td>\n",
       "      <td>THND_TONNE</td>\n",
       "      <td>A</td>\n",
       "      <td>2027</td>\n",
       "      <td>743.489549</td>\n",
       "    </tr>\n",
       "    <tr>\n",
       "      <th>12139</th>\n",
       "      <td>EU27</td>\n",
       "      <td>MEATCONSUMP</td>\n",
       "      <td>SHEEP</td>\n",
       "      <td>THND_TONNE</td>\n",
       "      <td>A</td>\n",
       "      <td>2028</td>\n",
       "      <td>747.011872</td>\n",
       "    </tr>\n",
       "  </tbody>\n",
       "</table>\n",
       "</div>"
      ],
      "text/plain": [
       "      location    indicator subject     measure frequency  time       value\n",
       "12135     EU27  MEATCONSUMP   SHEEP  THND_TONNE         A  2024  732.149998\n",
       "12136     EU27  MEATCONSUMP   SHEEP  THND_TONNE         A  2025  737.008238\n",
       "12137     EU27  MEATCONSUMP   SHEEP  THND_TONNE         A  2026  741.104095\n",
       "12138     EU27  MEATCONSUMP   SHEEP  THND_TONNE         A  2027  743.489549\n",
       "12139     EU27  MEATCONSUMP   SHEEP  THND_TONNE         A  2028  747.011872"
      ]
     },
     "execution_count": 162,
     "metadata": {},
     "output_type": "execute_result"
    }
   ],
   "source": [
    "df.tail()"
   ]
  },
  {
   "cell_type": "code",
   "execution_count": 163,
   "id": "82c95a52",
   "metadata": {},
   "outputs": [
    {
     "name": "stdout",
     "output_type": "stream",
     "text": [
      "<class 'pandas.core.frame.DataFrame'>\n",
      "RangeIndex: 12140 entries, 0 to 12139\n",
      "Data columns (total 7 columns):\n",
      " #   Column     Non-Null Count  Dtype  \n",
      "---  ------     --------------  -----  \n",
      " 0   location   12140 non-null  object \n",
      " 1   indicator  12140 non-null  object \n",
      " 2   subject    12140 non-null  object \n",
      " 3   measure    12140 non-null  object \n",
      " 4   frequency  12140 non-null  object \n",
      " 5   time       12140 non-null  int64  \n",
      " 6   value      12140 non-null  float64\n",
      "dtypes: float64(1), int64(1), object(5)\n",
      "memory usage: 664.0+ KB\n"
     ]
    }
   ],
   "source": [
    "# info of data\n",
    "df.info()"
   ]
  },
  {
   "cell_type": "code",
   "execution_count": 164,
   "id": "cb32ce91",
   "metadata": {},
   "outputs": [],
   "source": [
    "df['time'] = df['time'].astype(str)"
   ]
  },
  {
   "cell_type": "code",
   "execution_count": 165,
   "id": "3bfcdf0f",
   "metadata": {},
   "outputs": [],
   "source": [
    "df['location'] = df['location'].astype(str)"
   ]
  },
  {
   "cell_type": "code",
   "execution_count": null,
   "id": "598d90a6",
   "metadata": {},
   "outputs": [],
   "source": []
  },
  {
   "cell_type": "code",
   "execution_count": 166,
   "id": "3312b678",
   "metadata": {},
   "outputs": [
    {
     "data": {
      "text/html": [
       "<div>\n",
       "<style scoped>\n",
       "    .dataframe tbody tr th:only-of-type {\n",
       "        vertical-align: middle;\n",
       "    }\n",
       "\n",
       "    .dataframe tbody tr th {\n",
       "        vertical-align: top;\n",
       "    }\n",
       "\n",
       "    .dataframe thead th {\n",
       "        text-align: right;\n",
       "    }\n",
       "</style>\n",
       "<table border=\"1\" class=\"dataframe\">\n",
       "  <thead>\n",
       "    <tr style=\"text-align: right;\">\n",
       "      <th></th>\n",
       "      <th>count</th>\n",
       "      <th>mean</th>\n",
       "      <th>std</th>\n",
       "      <th>min</th>\n",
       "      <th>25%</th>\n",
       "      <th>50%</th>\n",
       "      <th>75%</th>\n",
       "      <th>max</th>\n",
       "    </tr>\n",
       "  </thead>\n",
       "  <tbody>\n",
       "    <tr>\n",
       "      <th>value</th>\n",
       "      <td>12140.0</td>\n",
       "      <td>2245.854995</td>\n",
       "      <td>10408.124296</td>\n",
       "      <td>7.505681e-08</td>\n",
       "      <td>5.013586</td>\n",
       "      <td>24.274546</td>\n",
       "      <td>435.598351</td>\n",
       "      <td>140252.569719</td>\n",
       "    </tr>\n",
       "  </tbody>\n",
       "</table>\n",
       "</div>"
      ],
      "text/plain": [
       "         count         mean           std           min       25%        50%  \\\n",
       "value  12140.0  2245.854995  10408.124296  7.505681e-08  5.013586  24.274546   \n",
       "\n",
       "              75%            max  \n",
       "value  435.598351  140252.569719  "
      ]
     },
     "execution_count": 166,
     "metadata": {},
     "output_type": "execute_result"
    }
   ],
   "source": [
    "# Describe data\n",
    "df.describe().T"
   ]
  },
  {
   "cell_type": "markdown",
   "id": "80579e5a",
   "metadata": {},
   "source": [
    "# cleaning"
   ]
  },
  {
   "cell_type": "code",
   "execution_count": 167,
   "id": "f43d761a",
   "metadata": {},
   "outputs": [],
   "source": [
    "#renaming columns\n",
    "df.rename(columns = {'time':'year', 'subject':'meat type', 'location':'country'}, inplace = True)\n",
    "# the value column is the meat consumption measured with the measure column indicated by the indicator column"
   ]
  },
  {
   "cell_type": "code",
   "execution_count": 168,
   "id": "964ebda6",
   "metadata": {},
   "outputs": [
    {
     "data": {
      "text/html": [
       "<div>\n",
       "<style scoped>\n",
       "    .dataframe tbody tr th:only-of-type {\n",
       "        vertical-align: middle;\n",
       "    }\n",
       "\n",
       "    .dataframe tbody tr th {\n",
       "        vertical-align: top;\n",
       "    }\n",
       "\n",
       "    .dataframe thead th {\n",
       "        text-align: right;\n",
       "    }\n",
       "</style>\n",
       "<table border=\"1\" class=\"dataframe\">\n",
       "  <thead>\n",
       "    <tr style=\"text-align: right;\">\n",
       "      <th></th>\n",
       "      <th>country</th>\n",
       "      <th>indicator</th>\n",
       "      <th>meat type</th>\n",
       "      <th>measure</th>\n",
       "      <th>frequency</th>\n",
       "      <th>year</th>\n",
       "      <th>value</th>\n",
       "    </tr>\n",
       "  </thead>\n",
       "  <tbody>\n",
       "    <tr>\n",
       "      <th>0</th>\n",
       "      <td>AUS</td>\n",
       "      <td>MEATCONSUMP</td>\n",
       "      <td>BEEF</td>\n",
       "      <td>KG_CAP</td>\n",
       "      <td>A</td>\n",
       "      <td>1990</td>\n",
       "      <td>0.000004</td>\n",
       "    </tr>\n",
       "    <tr>\n",
       "      <th>1</th>\n",
       "      <td>AUS</td>\n",
       "      <td>MEATCONSUMP</td>\n",
       "      <td>BEEF</td>\n",
       "      <td>KG_CAP</td>\n",
       "      <td>A</td>\n",
       "      <td>1991</td>\n",
       "      <td>27.808401</td>\n",
       "    </tr>\n",
       "    <tr>\n",
       "      <th>2</th>\n",
       "      <td>AUS</td>\n",
       "      <td>MEATCONSUMP</td>\n",
       "      <td>BEEF</td>\n",
       "      <td>KG_CAP</td>\n",
       "      <td>A</td>\n",
       "      <td>1992</td>\n",
       "      <td>26.278166</td>\n",
       "    </tr>\n",
       "    <tr>\n",
       "      <th>3</th>\n",
       "      <td>AUS</td>\n",
       "      <td>MEATCONSUMP</td>\n",
       "      <td>BEEF</td>\n",
       "      <td>KG_CAP</td>\n",
       "      <td>A</td>\n",
       "      <td>1993</td>\n",
       "      <td>26.244478</td>\n",
       "    </tr>\n",
       "    <tr>\n",
       "      <th>4</th>\n",
       "      <td>AUS</td>\n",
       "      <td>MEATCONSUMP</td>\n",
       "      <td>BEEF</td>\n",
       "      <td>KG_CAP</td>\n",
       "      <td>A</td>\n",
       "      <td>1994</td>\n",
       "      <td>25.541244</td>\n",
       "    </tr>\n",
       "  </tbody>\n",
       "</table>\n",
       "</div>"
      ],
      "text/plain": [
       "  country    indicator meat type measure frequency  year      value\n",
       "0     AUS  MEATCONSUMP      BEEF  KG_CAP         A  1990   0.000004\n",
       "1     AUS  MEATCONSUMP      BEEF  KG_CAP         A  1991  27.808401\n",
       "2     AUS  MEATCONSUMP      BEEF  KG_CAP         A  1992  26.278166\n",
       "3     AUS  MEATCONSUMP      BEEF  KG_CAP         A  1993  26.244478\n",
       "4     AUS  MEATCONSUMP      BEEF  KG_CAP         A  1994  25.541244"
      ]
     },
     "execution_count": 168,
     "metadata": {},
     "output_type": "execute_result"
    }
   ],
   "source": [
    "df.head()"
   ]
  },
  {
   "cell_type": "code",
   "execution_count": 169,
   "id": "ed64048b",
   "metadata": {},
   "outputs": [
    {
     "data": {
      "text/plain": [
       "country      0\n",
       "indicator    0\n",
       "meat type    0\n",
       "measure      0\n",
       "frequency    0\n",
       "year         0\n",
       "value        0\n",
       "dtype: int64"
      ]
     },
     "execution_count": 169,
     "metadata": {},
     "output_type": "execute_result"
    }
   ],
   "source": [
    "# are there missing values\n",
    "df.isna().sum()"
   ]
  },
  {
   "cell_type": "code",
   "execution_count": 170,
   "id": "45eee7c1",
   "metadata": {},
   "outputs": [
    {
     "data": {
      "text/plain": [
       "False"
      ]
     },
     "execution_count": 170,
     "metadata": {},
     "output_type": "execute_result"
    }
   ],
   "source": [
    "# are there duplicates\n",
    "df.duplicated().any()"
   ]
  },
  {
   "cell_type": "markdown",
   "id": "90b4e3bf",
   "metadata": {},
   "source": [
    "# Exploration"
   ]
  },
  {
   "cell_type": "code",
   "execution_count": 171,
   "id": "efa3eab5",
   "metadata": {},
   "outputs": [
    {
     "data": {
      "text/plain": [
       "array(['BEEF', 'PIG', 'POULTRY', 'SHEEP'], dtype=object)"
      ]
     },
     "execution_count": 171,
     "metadata": {},
     "output_type": "execute_result"
    }
   ],
   "source": [
    "# types of meat\n",
    "df['meat type'].unique()"
   ]
  },
  {
   "cell_type": "code",
   "execution_count": 266,
   "id": "8027419c",
   "metadata": {},
   "outputs": [
    {
     "data": {
      "text/plain": [
       "array(['AUS', 'CAN', 'JPN', 'KOR', 'MEX', 'NZL', 'TUR', 'USA', 'ARG',\n",
       "       'BRA', 'CHL', 'CHN', 'COL', 'EGY', 'ETH', 'IND', 'IDN', 'IRN',\n",
       "       'ISR', 'KAZ', 'MYS', 'NGA', 'PAK', 'PRY', 'PER', 'PHL', 'RUS',\n",
       "       'SAU', 'ZAF', 'THA', 'UKR', 'VNM', 'WLD', 'EU27', 'OECD', 'BRICS',\n",
       "       'NOR', 'CHE', 'GBR'], dtype=object)"
      ]
     },
     "execution_count": 266,
     "metadata": {},
     "output_type": "execute_result"
    }
   ],
   "source": [
    "# list of countries present\n",
    "df_country = df['country'].unique()\n",
    "df_country"
   ]
  },
  {
   "cell_type": "code",
   "execution_count": 173,
   "id": "79d50a39",
   "metadata": {},
   "outputs": [
    {
     "data": {
      "text/plain": [
       "39"
      ]
     },
     "execution_count": 173,
     "metadata": {},
     "output_type": "execute_result"
    }
   ],
   "source": [
    "len(df_country)"
   ]
  },
  {
   "cell_type": "code",
   "execution_count": 174,
   "id": "389c4039",
   "metadata": {},
   "outputs": [
    {
     "data": {
      "text/plain": [
       "array(['A'], dtype=object)"
      ]
     },
     "execution_count": 174,
     "metadata": {},
     "output_type": "execute_result"
    }
   ],
   "source": [
    "df['frequency'].unique()"
   ]
  },
  {
   "cell_type": "code",
   "execution_count": null,
   "id": "1ef273e5",
   "metadata": {},
   "outputs": [],
   "source": []
  },
  {
   "cell_type": "markdown",
   "id": "ac8f45e7",
   "metadata": {},
   "source": [
    "# Analysis"
   ]
  },
  {
   "cell_type": "code",
   "execution_count": 230,
   "id": "4bdf2229",
   "metadata": {},
   "outputs": [
    {
     "data": {
      "text/plain": [
       "meat type\n",
       "BEEF        6164945.47\n",
       "PIG        10761907.02\n",
       "POULTRY     9218512.09\n",
       "SHEEP       1119315.07\n",
       "Name: value, dtype: float64"
      ]
     },
     "execution_count": 230,
     "metadata": {},
     "output_type": "execute_result"
    }
   ],
   "source": [
    "#Deterimning the most consumed meat type\n",
    "df_1 = df.groupby('meat type')['value'].sum().round(2)\n",
    "df_1"
   ]
  },
  {
   "cell_type": "code",
   "execution_count": 233,
   "id": "96fa520d",
   "metadata": {},
   "outputs": [
    {
     "data": {
      "image/png": "[encoded data removed]",
      "text/plain": [
       "<Figure size 640x480 with 1 Axes>"
      ]
     },
     "metadata": {},
     "output_type": "display_data"
    }
   ],
   "source": [
    "plt.pie(df_1,autopct = '%.2f%%',labels = df_1.index)\n",
    "plt.title('Most consumed meat')\n",
    "plt.show()"
   ]
  },
  {
   "cell_type": "code",
   "execution_count": 228,
   "id": "da3bb831",
   "metadata": {},
   "outputs": [
    {
     "data": {
      "text/plain": [
       "meat type\n",
       "BEEF       2031.28\n",
       "PIG        3545.93\n",
       "POULTRY    3037.40\n",
       "SHEEP       368.80\n",
       "Name: value, dtype: float64"
      ]
     },
     "execution_count": 228,
     "metadata": {},
     "output_type": "execute_result"
    }
   ],
   "source": [
    "# Determining the most average consumed meat type\n",
    "df_11 = df.groupby('meat type')['value'].mean().round(2)\n",
    "df_11"
   ]
  },
  {
   "cell_type": "code",
   "execution_count": 234,
   "id": "25015cde",
   "metadata": {},
   "outputs": [
    {
     "data": {
      "image/png": "[encoded data removed]",
      "text/plain": [
       "<Figure size 640x480 with 1 Axes>"
      ]
     },
     "metadata": {},
     "output_type": "display_data"
    }
   ],
   "source": [
    "plt.pie(df_11,autopct = '%.2f%%',labels = df_11.index)\n",
    "plt.title('Average of most consumed meat')\n",
    "plt.show()"
   ]
  },
  {
   "cell_type": "code",
   "execution_count": null,
   "id": "d3af5043",
   "metadata": {},
   "outputs": [],
   "source": []
  },
  {
   "cell_type": "markdown",
   "id": "db40690c",
   "metadata": {},
   "source": [
    "#  \n",
    "- BRICS, WLD, EU27 and OECD are not countries but a group of countries so they have to be removed  if analysis is being done on countries"
   ]
  },
  {
   "cell_type": "code",
   "execution_count": 179,
   "id": "9bc012d3",
   "metadata": {},
   "outputs": [
    {
     "data": {
      "text/html": [
       "<div>\n",
       "<style scoped>\n",
       "    .dataframe tbody tr th:only-of-type {\n",
       "        vertical-align: middle;\n",
       "    }\n",
       "\n",
       "    .dataframe tbody tr th {\n",
       "        vertical-align: top;\n",
       "    }\n",
       "\n",
       "    .dataframe thead th {\n",
       "        text-align: right;\n",
       "    }\n",
       "</style>\n",
       "<table border=\"1\" class=\"dataframe\">\n",
       "  <thead>\n",
       "    <tr style=\"text-align: right;\">\n",
       "      <th></th>\n",
       "      <th>country</th>\n",
       "      <th>value</th>\n",
       "    </tr>\n",
       "  </thead>\n",
       "  <tbody>\n",
       "    <tr>\n",
       "      <th>6</th>\n",
       "      <td>CHN</td>\n",
       "      <td>2758492.92</td>\n",
       "    </tr>\n",
       "    <tr>\n",
       "      <th>2</th>\n",
       "      <td>BRA</td>\n",
       "      <td>652885.08</td>\n",
       "    </tr>\n",
       "    <tr>\n",
       "      <th>0</th>\n",
       "      <td>ARG</td>\n",
       "      <td>170525.34</td>\n",
       "    </tr>\n",
       "    <tr>\n",
       "      <th>3</th>\n",
       "      <td>CAN</td>\n",
       "      <td>119717.94</td>\n",
       "    </tr>\n",
       "    <tr>\n",
       "      <th>1</th>\n",
       "      <td>AUS</td>\n",
       "      <td>97772.97</td>\n",
       "    </tr>\n",
       "    <tr>\n",
       "      <th>7</th>\n",
       "      <td>COL</td>\n",
       "      <td>88358.75</td>\n",
       "    </tr>\n",
       "    <tr>\n",
       "      <th>8</th>\n",
       "      <td>EGY</td>\n",
       "      <td>80568.00</td>\n",
       "    </tr>\n",
       "    <tr>\n",
       "      <th>5</th>\n",
       "      <td>CHL</td>\n",
       "      <td>53617.84</td>\n",
       "    </tr>\n",
       "    <tr>\n",
       "      <th>4</th>\n",
       "      <td>CHE</td>\n",
       "      <td>23359.92</td>\n",
       "    </tr>\n",
       "    <tr>\n",
       "      <th>9</th>\n",
       "      <td>ETH</td>\n",
       "      <td>18327.69</td>\n",
       "    </tr>\n",
       "  </tbody>\n",
       "</table>\n",
       "</div>"
      ],
      "text/plain": [
       "  country       value\n",
       "6     CHN  2758492.92\n",
       "2     BRA   652885.08\n",
       "0     ARG   170525.34\n",
       "3     CAN   119717.94\n",
       "1     AUS    97772.97\n",
       "7     COL    88358.75\n",
       "8     EGY    80568.00\n",
       "5     CHL    53617.84\n",
       "4     CHE    23359.92\n",
       "9     ETH    18327.69"
      ]
     },
     "execution_count": 179,
     "metadata": {},
     "output_type": "execute_result"
    }
   ],
   "source": [
    "#Determining the country with most meant consumption\n",
    "df_2 = df[(df['country'] != 'WLD') & (df['country'] != 'BRICS') & (df['country'] != 'OECD') & (df['country'] != 'EU27')]\n",
    "df_22 = df_2.groupby('country')['value'].sum().round(2).reset_index()\n",
    "df_22= df_22.head(10)\n",
    "df_22.sort_values(by='value', ascending=False, inplace=True)\n",
    "df_22"
   ]
  },
  {
   "cell_type": "code",
   "execution_count": 180,
   "id": "375354ed",
   "metadata": {},
   "outputs": [
    {
     "data": {
      "text/html": [
       "<div>\n",
       "<style scoped>\n",
       "    .dataframe tbody tr th:only-of-type {\n",
       "        vertical-align: middle;\n",
       "    }\n",
       "\n",
       "    .dataframe tbody tr th {\n",
       "        vertical-align: top;\n",
       "    }\n",
       "\n",
       "    .dataframe thead th {\n",
       "        text-align: right;\n",
       "    }\n",
       "</style>\n",
       "<table border=\"1\" class=\"dataframe\">\n",
       "  <thead>\n",
       "    <tr style=\"text-align: right;\">\n",
       "      <th></th>\n",
       "      <th>country</th>\n",
       "      <th>value</th>\n",
       "    </tr>\n",
       "  </thead>\n",
       "  <tbody>\n",
       "    <tr>\n",
       "      <th>32</th>\n",
       "      <td>USA</td>\n",
       "      <td>1450560.46</td>\n",
       "    </tr>\n",
       "    <tr>\n",
       "      <th>27</th>\n",
       "      <td>RUS</td>\n",
       "      <td>349020.08</td>\n",
       "    </tr>\n",
       "    <tr>\n",
       "      <th>33</th>\n",
       "      <td>VNM</td>\n",
       "      <td>171318.72</td>\n",
       "    </tr>\n",
       "    <tr>\n",
       "      <th>25</th>\n",
       "      <td>PHL</td>\n",
       "      <td>122632.59</td>\n",
       "    </tr>\n",
       "    <tr>\n",
       "      <th>34</th>\n",
       "      <td>ZAF</td>\n",
       "      <td>111600.96</td>\n",
       "    </tr>\n",
       "    <tr>\n",
       "      <th>30</th>\n",
       "      <td>TUR</td>\n",
       "      <td>88938.34</td>\n",
       "    </tr>\n",
       "    <tr>\n",
       "      <th>31</th>\n",
       "      <td>UKR</td>\n",
       "      <td>88399.23</td>\n",
       "    </tr>\n",
       "    <tr>\n",
       "      <th>29</th>\n",
       "      <td>THA</td>\n",
       "      <td>66859.72</td>\n",
       "    </tr>\n",
       "    <tr>\n",
       "      <th>28</th>\n",
       "      <td>SAU</td>\n",
       "      <td>54695.22</td>\n",
       "    </tr>\n",
       "    <tr>\n",
       "      <th>26</th>\n",
       "      <td>PRY</td>\n",
       "      <td>15303.54</td>\n",
       "    </tr>\n",
       "  </tbody>\n",
       "</table>\n",
       "</div>"
      ],
      "text/plain": [
       "   country       value\n",
       "32     USA  1450560.46\n",
       "27     RUS   349020.08\n",
       "33     VNM   171318.72\n",
       "25     PHL   122632.59\n",
       "34     ZAF   111600.96\n",
       "30     TUR    88938.34\n",
       "31     UKR    88399.23\n",
       "29     THA    66859.72\n",
       "28     SAU    54695.22\n",
       "26     PRY    15303.54"
      ]
     },
     "execution_count": 180,
     "metadata": {},
     "output_type": "execute_result"
    }
   ],
   "source": [
    "df_23 = df_2.groupby('country')['value'].sum().round(2).reset_index()\n",
    "df_23= df_23.tail(10)\n",
    "df_23.sort_values(by='value', ascending=False, inplace=True)\n",
    "df_23"
   ]
  },
  {
   "cell_type": "code",
   "execution_count": null,
   "id": "96487e1c",
   "metadata": {},
   "outputs": [],
   "source": []
  },
  {
   "cell_type": "code",
   "execution_count": 275,
   "id": "c512613a",
   "metadata": {},
   "outputs": [
    {
     "data": {
      "image/png": "[encoded data removed]",
      "text/plain": [
       "<Figure size 640x480 with 2 Axes>"
      ]
     },
     "metadata": {},
     "output_type": "display_data"
    }
   ],
   "source": [
    "plt.subplot(2,1,1)\n",
    "plt.bar(df_22['country'], df_22[\"value\"])\n",
    "plt.title(\"Top 10 countries with high meat consumption\")\n",
    "plt.xlabel(\"Country\")\n",
    "plt.ylabel(\"Meat consumption\")\n",
    "\n",
    "plt.subplot(2,1,2)\n",
    "plt.bar(df_23['country'], df_23[\"value\"])\n",
    "plt.title(\"Last 10 countries with less meat consumption\")\n",
    "plt.xlabel(\"Country\")\n",
    "plt.ylabel(\"Meat consumption\")\n",
    "plt.subplots_adjust(bottom=0.01,top=0.9,hspace=0.5)\n",
    "plt.show()"
   ]
  },
  {
   "cell_type": "code",
   "execution_count": null,
   "id": "c5afb1f0",
   "metadata": {},
   "outputs": [],
   "source": []
  },
  {
   "cell_type": "code",
   "execution_count": 250,
   "id": "1d88c84a",
   "metadata": {
    "scrolled": true
   },
   "outputs": [
    {
     "data": {
      "text/html": [
       "<div>\n",
       "<style scoped>\n",
       "    .dataframe tbody tr th:only-of-type {\n",
       "        vertical-align: middle;\n",
       "    }\n",
       "\n",
       "    .dataframe tbody tr th {\n",
       "        vertical-align: top;\n",
       "    }\n",
       "\n",
       "    .dataframe thead th {\n",
       "        text-align: right;\n",
       "    }\n",
       "</style>\n",
       "<table border=\"1\" class=\"dataframe\">\n",
       "  <thead>\n",
       "    <tr style=\"text-align: right;\">\n",
       "      <th></th>\n",
       "      <th>country</th>\n",
       "      <th>indicator</th>\n",
       "      <th>meat type</th>\n",
       "      <th>measure</th>\n",
       "      <th>frequency</th>\n",
       "      <th>year</th>\n",
       "      <th>value</th>\n",
       "    </tr>\n",
       "  </thead>\n",
       "  <tbody>\n",
       "    <tr>\n",
       "      <th>1716</th>\n",
       "      <td>CHN</td>\n",
       "      <td>MEATCONSUMP</td>\n",
       "      <td>BEEF</td>\n",
       "      <td>KG_CAP</td>\n",
       "      <td>A</td>\n",
       "      <td>1990</td>\n",
       "      <td>0.641784</td>\n",
       "    </tr>\n",
       "    <tr>\n",
       "      <th>1717</th>\n",
       "      <td>CHN</td>\n",
       "      <td>MEATCONSUMP</td>\n",
       "      <td>BEEF</td>\n",
       "      <td>KG_CAP</td>\n",
       "      <td>A</td>\n",
       "      <td>1991</td>\n",
       "      <td>0.752712</td>\n",
       "    </tr>\n",
       "    <tr>\n",
       "      <th>1718</th>\n",
       "      <td>CHN</td>\n",
       "      <td>MEATCONSUMP</td>\n",
       "      <td>BEEF</td>\n",
       "      <td>KG_CAP</td>\n",
       "      <td>A</td>\n",
       "      <td>1992</td>\n",
       "      <td>1.003120</td>\n",
       "    </tr>\n",
       "    <tr>\n",
       "      <th>1719</th>\n",
       "      <td>CHN</td>\n",
       "      <td>MEATCONSUMP</td>\n",
       "      <td>BEEF</td>\n",
       "      <td>KG_CAP</td>\n",
       "      <td>A</td>\n",
       "      <td>1993</td>\n",
       "      <td>1.257452</td>\n",
       "    </tr>\n",
       "    <tr>\n",
       "      <th>1720</th>\n",
       "      <td>CHN</td>\n",
       "      <td>MEATCONSUMP</td>\n",
       "      <td>BEEF</td>\n",
       "      <td>KG_CAP</td>\n",
       "      <td>A</td>\n",
       "      <td>1994</td>\n",
       "      <td>1.524404</td>\n",
       "    </tr>\n",
       "    <tr>\n",
       "      <th>...</th>\n",
       "      <td>...</td>\n",
       "      <td>...</td>\n",
       "      <td>...</td>\n",
       "      <td>...</td>\n",
       "      <td>...</td>\n",
       "      <td>...</td>\n",
       "      <td>...</td>\n",
       "    </tr>\n",
       "    <tr>\n",
       "      <th>11082</th>\n",
       "      <td>CHN</td>\n",
       "      <td>MEATCONSUMP</td>\n",
       "      <td>SHEEP</td>\n",
       "      <td>THND_TONNE</td>\n",
       "      <td>A</td>\n",
       "      <td>2024</td>\n",
       "      <td>5526.449160</td>\n",
       "    </tr>\n",
       "    <tr>\n",
       "      <th>11083</th>\n",
       "      <td>CHN</td>\n",
       "      <td>MEATCONSUMP</td>\n",
       "      <td>SHEEP</td>\n",
       "      <td>THND_TONNE</td>\n",
       "      <td>A</td>\n",
       "      <td>2025</td>\n",
       "      <td>5603.448262</td>\n",
       "    </tr>\n",
       "    <tr>\n",
       "      <th>11084</th>\n",
       "      <td>CHN</td>\n",
       "      <td>MEATCONSUMP</td>\n",
       "      <td>SHEEP</td>\n",
       "      <td>THND_TONNE</td>\n",
       "      <td>A</td>\n",
       "      <td>2026</td>\n",
       "      <td>5680.343046</td>\n",
       "    </tr>\n",
       "    <tr>\n",
       "      <th>11085</th>\n",
       "      <td>CHN</td>\n",
       "      <td>MEATCONSUMP</td>\n",
       "      <td>SHEEP</td>\n",
       "      <td>THND_TONNE</td>\n",
       "      <td>A</td>\n",
       "      <td>2027</td>\n",
       "      <td>5756.326114</td>\n",
       "    </tr>\n",
       "    <tr>\n",
       "      <th>11086</th>\n",
       "      <td>CHN</td>\n",
       "      <td>MEATCONSUMP</td>\n",
       "      <td>SHEEP</td>\n",
       "      <td>THND_TONNE</td>\n",
       "      <td>A</td>\n",
       "      <td>2028</td>\n",
       "      <td>5833.094832</td>\n",
       "    </tr>\n",
       "  </tbody>\n",
       "</table>\n",
       "<p>312 rows × 7 columns</p>\n",
       "</div>"
      ],
      "text/plain": [
       "      country    indicator meat type     measure frequency  year        value\n",
       "1716      CHN  MEATCONSUMP      BEEF      KG_CAP         A  1990     0.641784\n",
       "1717      CHN  MEATCONSUMP      BEEF      KG_CAP         A  1991     0.752712\n",
       "1718      CHN  MEATCONSUMP      BEEF      KG_CAP         A  1992     1.003120\n",
       "1719      CHN  MEATCONSUMP      BEEF      KG_CAP         A  1993     1.257452\n",
       "1720      CHN  MEATCONSUMP      BEEF      KG_CAP         A  1994     1.524404\n",
       "...       ...          ...       ...         ...       ...   ...          ...\n",
       "11082     CHN  MEATCONSUMP     SHEEP  THND_TONNE         A  2024  5526.449160\n",
       "11083     CHN  MEATCONSUMP     SHEEP  THND_TONNE         A  2025  5603.448262\n",
       "11084     CHN  MEATCONSUMP     SHEEP  THND_TONNE         A  2026  5680.343046\n",
       "11085     CHN  MEATCONSUMP     SHEEP  THND_TONNE         A  2027  5756.326114\n",
       "11086     CHN  MEATCONSUMP     SHEEP  THND_TONNE         A  2028  5833.094832\n",
       "\n",
       "[312 rows x 7 columns]"
      ]
     },
     "execution_count": 250,
     "metadata": {},
     "output_type": "execute_result"
    }
   ],
   "source": [
    "df_chn = df[df[\"country\"] ==\"CHN\"]\n",
    "df_chn"
   ]
  },
  {
   "cell_type": "code",
   "execution_count": 251,
   "id": "5678c73e",
   "metadata": {},
   "outputs": [
    {
     "data": {
      "text/plain": [
       "meat type\n",
       "BEEF        2901.86\n",
       "PIG        23269.22\n",
       "POULTRY     7329.55\n",
       "SHEEP       1864.67\n",
       "Name: value, dtype: float64"
      ]
     },
     "execution_count": 251,
     "metadata": {},
     "output_type": "execute_result"
    }
   ],
   "source": [
    "df_chn_1 = df_chn.groupby('meat type')['value'].mean().round(2)\n",
    "df_chn_1"
   ]
  },
  {
   "cell_type": "code",
   "execution_count": 262,
   "id": "f494477a",
   "metadata": {},
   "outputs": [
    {
     "data": {
      "image/png": "[encoded data removed]",
      "text/plain": [
       "<Figure size 640x480 with 1 Axes>"
      ]
     },
     "metadata": {},
     "output_type": "display_data"
    }
   ],
   "source": [
    "#Pie chart visualization of meat type consumption wiith China\n",
    "plt.pie(df_chn_1,autopct = '%.2f%%',labels = df_chn_1.index)\n",
    "plt.title('Meat consumption in China')\n",
    "plt.show()"
   ]
  },
  {
   "cell_type": "code",
   "execution_count": 265,
   "id": "20e339f1",
   "metadata": {},
   "outputs": [
    {
     "data": {
      "image/png": "[encoded data removed]",
      "text/plain": [
       "<Figure size 640x480 with 1 Axes>"
      ]
     },
     "metadata": {},
     "output_type": "display_data"
    }
   ],
   "source": [
    "plt.barh(df_chn_1.index,df_chn_1)\n",
    "plt.title(\"average number of meat consumption in China\")\n",
    "plt.show()"
   ]
  },
  {
   "cell_type": "code",
   "execution_count": null,
   "id": "066e6886",
   "metadata": {},
   "outputs": [],
   "source": []
  },
  {
   "cell_type": "code",
   "execution_count": 254,
   "id": "6147e851",
   "metadata": {},
   "outputs": [
    {
     "data": {
      "text/html": [
       "<div>\n",
       "<style scoped>\n",
       "    .dataframe tbody tr th:only-of-type {\n",
       "        vertical-align: middle;\n",
       "    }\n",
       "\n",
       "    .dataframe tbody tr th {\n",
       "        vertical-align: top;\n",
       "    }\n",
       "\n",
       "    .dataframe thead th {\n",
       "        text-align: right;\n",
       "    }\n",
       "</style>\n",
       "<table border=\"1\" class=\"dataframe\">\n",
       "  <thead>\n",
       "    <tr style=\"text-align: right;\">\n",
       "      <th></th>\n",
       "      <th>country</th>\n",
       "      <th>indicator</th>\n",
       "      <th>meat type</th>\n",
       "      <th>measure</th>\n",
       "      <th>frequency</th>\n",
       "      <th>year</th>\n",
       "      <th>value</th>\n",
       "    </tr>\n",
       "  </thead>\n",
       "  <tbody>\n",
       "    <tr>\n",
       "      <th>3568</th>\n",
       "      <td>PRY</td>\n",
       "      <td>MEATCONSUMP</td>\n",
       "      <td>BEEF</td>\n",
       "      <td>KG_CAP</td>\n",
       "      <td>A</td>\n",
       "      <td>1990</td>\n",
       "      <td>14.260355</td>\n",
       "    </tr>\n",
       "    <tr>\n",
       "      <th>3569</th>\n",
       "      <td>PRY</td>\n",
       "      <td>MEATCONSUMP</td>\n",
       "      <td>BEEF</td>\n",
       "      <td>KG_CAP</td>\n",
       "      <td>A</td>\n",
       "      <td>1991</td>\n",
       "      <td>28.434027</td>\n",
       "    </tr>\n",
       "    <tr>\n",
       "      <th>3570</th>\n",
       "      <td>PRY</td>\n",
       "      <td>MEATCONSUMP</td>\n",
       "      <td>BEEF</td>\n",
       "      <td>KG_CAP</td>\n",
       "      <td>A</td>\n",
       "      <td>1992</td>\n",
       "      <td>31.768612</td>\n",
       "    </tr>\n",
       "    <tr>\n",
       "      <th>3571</th>\n",
       "      <td>PRY</td>\n",
       "      <td>MEATCONSUMP</td>\n",
       "      <td>BEEF</td>\n",
       "      <td>KG_CAP</td>\n",
       "      <td>A</td>\n",
       "      <td>1993</td>\n",
       "      <td>29.730622</td>\n",
       "    </tr>\n",
       "    <tr>\n",
       "      <th>3572</th>\n",
       "      <td>PRY</td>\n",
       "      <td>MEATCONSUMP</td>\n",
       "      <td>BEEF</td>\n",
       "      <td>KG_CAP</td>\n",
       "      <td>A</td>\n",
       "      <td>1994</td>\n",
       "      <td>29.123784</td>\n",
       "    </tr>\n",
       "    <tr>\n",
       "      <th>...</th>\n",
       "      <td>...</td>\n",
       "      <td>...</td>\n",
       "      <td>...</td>\n",
       "      <td>...</td>\n",
       "      <td>...</td>\n",
       "      <td>...</td>\n",
       "      <td>...</td>\n",
       "    </tr>\n",
       "    <tr>\n",
       "      <th>10848</th>\n",
       "      <td>PRY</td>\n",
       "      <td>MEATCONSUMP</td>\n",
       "      <td>PIG</td>\n",
       "      <td>THND_TONNE</td>\n",
       "      <td>A</td>\n",
       "      <td>2024</td>\n",
       "      <td>208.397179</td>\n",
       "    </tr>\n",
       "    <tr>\n",
       "      <th>10849</th>\n",
       "      <td>PRY</td>\n",
       "      <td>MEATCONSUMP</td>\n",
       "      <td>PIG</td>\n",
       "      <td>THND_TONNE</td>\n",
       "      <td>A</td>\n",
       "      <td>2025</td>\n",
       "      <td>211.650150</td>\n",
       "    </tr>\n",
       "    <tr>\n",
       "      <th>10850</th>\n",
       "      <td>PRY</td>\n",
       "      <td>MEATCONSUMP</td>\n",
       "      <td>PIG</td>\n",
       "      <td>THND_TONNE</td>\n",
       "      <td>A</td>\n",
       "      <td>2026</td>\n",
       "      <td>214.929551</td>\n",
       "    </tr>\n",
       "    <tr>\n",
       "      <th>10851</th>\n",
       "      <td>PRY</td>\n",
       "      <td>MEATCONSUMP</td>\n",
       "      <td>PIG</td>\n",
       "      <td>THND_TONNE</td>\n",
       "      <td>A</td>\n",
       "      <td>2027</td>\n",
       "      <td>218.079522</td>\n",
       "    </tr>\n",
       "    <tr>\n",
       "      <th>10852</th>\n",
       "      <td>PRY</td>\n",
       "      <td>MEATCONSUMP</td>\n",
       "      <td>PIG</td>\n",
       "      <td>THND_TONNE</td>\n",
       "      <td>A</td>\n",
       "      <td>2028</td>\n",
       "      <td>221.203750</td>\n",
       "    </tr>\n",
       "  </tbody>\n",
       "</table>\n",
       "<p>312 rows × 7 columns</p>\n",
       "</div>"
      ],
      "text/plain": [
       "      country    indicator meat type     measure frequency  year       value\n",
       "3568      PRY  MEATCONSUMP      BEEF      KG_CAP         A  1990   14.260355\n",
       "3569      PRY  MEATCONSUMP      BEEF      KG_CAP         A  1991   28.434027\n",
       "3570      PRY  MEATCONSUMP      BEEF      KG_CAP         A  1992   31.768612\n",
       "3571      PRY  MEATCONSUMP      BEEF      KG_CAP         A  1993   29.730622\n",
       "3572      PRY  MEATCONSUMP      BEEF      KG_CAP         A  1994   29.123784\n",
       "...       ...          ...       ...         ...       ...   ...         ...\n",
       "10848     PRY  MEATCONSUMP       PIG  THND_TONNE         A  2024  208.397179\n",
       "10849     PRY  MEATCONSUMP       PIG  THND_TONNE         A  2025  211.650150\n",
       "10850     PRY  MEATCONSUMP       PIG  THND_TONNE         A  2026  214.929551\n",
       "10851     PRY  MEATCONSUMP       PIG  THND_TONNE         A  2027  218.079522\n",
       "10852     PRY  MEATCONSUMP       PIG  THND_TONNE         A  2028  221.203750\n",
       "\n",
       "[312 rows x 7 columns]"
      ]
     },
     "execution_count": 254,
     "metadata": {},
     "output_type": "execute_result"
    }
   ],
   "source": [
    "df_pyr = df[df[\"country\"] ==\"PRY\"]\n",
    "df_pyr"
   ]
  },
  {
   "cell_type": "code",
   "execution_count": 259,
   "id": "c617259d",
   "metadata": {},
   "outputs": [
    {
     "data": {
      "text/plain": [
       "meat type\n",
       "BEEF       80.49\n",
       "PIG        91.58\n",
       "POULTRY    22.05\n",
       "SHEEP       2.08\n",
       "Name: value, dtype: float64"
      ]
     },
     "execution_count": 259,
     "metadata": {},
     "output_type": "execute_result"
    }
   ],
   "source": [
    "#Determing the meat consumption by Paraguay,the country with the least meat consumption\n",
    "\n",
    "df_pyr_1 = df_pyr.groupby('meat type')['value'].mean().round(2)\n",
    "df_pyr_1"
   ]
  },
  {
   "cell_type": "code",
   "execution_count": 260,
   "id": "6ced8d5b",
   "metadata": {},
   "outputs": [
    {
     "data": {
      "image/png": "[encoded data removed]",
      "text/plain": [
       "<Figure size 640x480 with 1 Axes>"
      ]
     },
     "metadata": {},
     "output_type": "display_data"
    }
   ],
   "source": [
    "plt.pie(df_pyr_1,autopct = '%.2f%%',labels = df_pyr_1.index)\n",
    "plt.title('Meat consumption in Paraguay')\n",
    "plt.show()"
   ]
  },
  {
   "cell_type": "code",
   "execution_count": 267,
   "id": "899bdfc7",
   "metadata": {},
   "outputs": [
    {
     "data": {
      "image/png": "[encoded data removed]",
      "text/plain": [
       "<Figure size 640x480 with 1 Axes>"
      ]
     },
     "metadata": {},
     "output_type": "display_data"
    }
   ],
   "source": [
    "plt.barh(df_pyr_1.index,df_pyr_1)\n",
    "plt.title(\"average number of meat consumption in Paraguay\")\n",
    "plt.show()"
   ]
  },
  {
   "cell_type": "code",
   "execution_count": null,
   "id": "45aa7c0d",
   "metadata": {},
   "outputs": [],
   "source": []
  },
  {
   "cell_type": "code",
   "execution_count": 270,
   "id": "41cec975",
   "metadata": {},
   "outputs": [
    {
     "data": {
      "text/html": [
       "<div>\n",
       "<style scoped>\n",
       "    .dataframe tbody tr th:only-of-type {\n",
       "        vertical-align: middle;\n",
       "    }\n",
       "\n",
       "    .dataframe tbody tr th {\n",
       "        vertical-align: top;\n",
       "    }\n",
       "\n",
       "    .dataframe thead th {\n",
       "        text-align: right;\n",
       "    }\n",
       "</style>\n",
       "<table border=\"1\" class=\"dataframe\">\n",
       "  <thead>\n",
       "    <tr style=\"text-align: right;\">\n",
       "      <th></th>\n",
       "      <th>country</th>\n",
       "      <th>indicator</th>\n",
       "      <th>meat type</th>\n",
       "      <th>measure</th>\n",
       "      <th>frequency</th>\n",
       "      <th>year</th>\n",
       "      <th>value</th>\n",
       "    </tr>\n",
       "  </thead>\n",
       "  <tbody>\n",
       "    <tr>\n",
       "      <th>3412</th>\n",
       "      <td>PAK</td>\n",
       "      <td>MEATCONSUMP</td>\n",
       "      <td>BEEF</td>\n",
       "      <td>KG_CAP</td>\n",
       "      <td>A</td>\n",
       "      <td>1990</td>\n",
       "      <td>4.334395</td>\n",
       "    </tr>\n",
       "    <tr>\n",
       "      <th>3413</th>\n",
       "      <td>PAK</td>\n",
       "      <td>MEATCONSUMP</td>\n",
       "      <td>BEEF</td>\n",
       "      <td>KG_CAP</td>\n",
       "      <td>A</td>\n",
       "      <td>1991</td>\n",
       "      <td>4.398314</td>\n",
       "    </tr>\n",
       "    <tr>\n",
       "      <th>3414</th>\n",
       "      <td>PAK</td>\n",
       "      <td>MEATCONSUMP</td>\n",
       "      <td>BEEF</td>\n",
       "      <td>KG_CAP</td>\n",
       "      <td>A</td>\n",
       "      <td>1992</td>\n",
       "      <td>4.497806</td>\n",
       "    </tr>\n",
       "    <tr>\n",
       "      <th>3415</th>\n",
       "      <td>PAK</td>\n",
       "      <td>MEATCONSUMP</td>\n",
       "      <td>BEEF</td>\n",
       "      <td>KG_CAP</td>\n",
       "      <td>A</td>\n",
       "      <td>1993</td>\n",
       "      <td>4.602570</td>\n",
       "    </tr>\n",
       "    <tr>\n",
       "      <th>3416</th>\n",
       "      <td>PAK</td>\n",
       "      <td>MEATCONSUMP</td>\n",
       "      <td>BEEF</td>\n",
       "      <td>KG_CAP</td>\n",
       "      <td>A</td>\n",
       "      <td>1994</td>\n",
       "      <td>4.716050</td>\n",
       "    </tr>\n",
       "    <tr>\n",
       "      <th>...</th>\n",
       "      <td>...</td>\n",
       "      <td>...</td>\n",
       "      <td>...</td>\n",
       "      <td>...</td>\n",
       "      <td>...</td>\n",
       "      <td>...</td>\n",
       "      <td>...</td>\n",
       "    </tr>\n",
       "    <tr>\n",
       "      <th>10341</th>\n",
       "      <td>PAK</td>\n",
       "      <td>MEATCONSUMP</td>\n",
       "      <td>PIG</td>\n",
       "      <td>THND_TONNE</td>\n",
       "      <td>A</td>\n",
       "      <td>2024</td>\n",
       "      <td>0.001000</td>\n",
       "    </tr>\n",
       "    <tr>\n",
       "      <th>10342</th>\n",
       "      <td>PAK</td>\n",
       "      <td>MEATCONSUMP</td>\n",
       "      <td>PIG</td>\n",
       "      <td>THND_TONNE</td>\n",
       "      <td>A</td>\n",
       "      <td>2025</td>\n",
       "      <td>0.001000</td>\n",
       "    </tr>\n",
       "    <tr>\n",
       "      <th>10343</th>\n",
       "      <td>PAK</td>\n",
       "      <td>MEATCONSUMP</td>\n",
       "      <td>PIG</td>\n",
       "      <td>THND_TONNE</td>\n",
       "      <td>A</td>\n",
       "      <td>2026</td>\n",
       "      <td>0.001000</td>\n",
       "    </tr>\n",
       "    <tr>\n",
       "      <th>10344</th>\n",
       "      <td>PAK</td>\n",
       "      <td>MEATCONSUMP</td>\n",
       "      <td>PIG</td>\n",
       "      <td>THND_TONNE</td>\n",
       "      <td>A</td>\n",
       "      <td>2027</td>\n",
       "      <td>0.001000</td>\n",
       "    </tr>\n",
       "    <tr>\n",
       "      <th>10345</th>\n",
       "      <td>PAK</td>\n",
       "      <td>MEATCONSUMP</td>\n",
       "      <td>PIG</td>\n",
       "      <td>THND_TONNE</td>\n",
       "      <td>A</td>\n",
       "      <td>2028</td>\n",
       "      <td>0.001000</td>\n",
       "    </tr>\n",
       "  </tbody>\n",
       "</table>\n",
       "<p>312 rows × 7 columns</p>\n",
       "</div>"
      ],
      "text/plain": [
       "      country    indicator meat type     measure frequency  year     value\n",
       "3412      PAK  MEATCONSUMP      BEEF      KG_CAP         A  1990  4.334395\n",
       "3413      PAK  MEATCONSUMP      BEEF      KG_CAP         A  1991  4.398314\n",
       "3414      PAK  MEATCONSUMP      BEEF      KG_CAP         A  1992  4.497806\n",
       "3415      PAK  MEATCONSUMP      BEEF      KG_CAP         A  1993  4.602570\n",
       "3416      PAK  MEATCONSUMP      BEEF      KG_CAP         A  1994  4.716050\n",
       "...       ...          ...       ...         ...       ...   ...       ...\n",
       "10341     PAK  MEATCONSUMP       PIG  THND_TONNE         A  2024  0.001000\n",
       "10342     PAK  MEATCONSUMP       PIG  THND_TONNE         A  2025  0.001000\n",
       "10343     PAK  MEATCONSUMP       PIG  THND_TONNE         A  2026  0.001000\n",
       "10344     PAK  MEATCONSUMP       PIG  THND_TONNE         A  2027  0.001000\n",
       "10345     PAK  MEATCONSUMP       PIG  THND_TONNE         A  2028  0.001000\n",
       "\n",
       "[312 rows x 7 columns]"
      ]
     },
     "execution_count": 270,
     "metadata": {},
     "output_type": "execute_result"
    }
   ],
   "source": [
    "df_pak = df[df[\"country\"] ==\"PAK\"]\n",
    "df_pak"
   ]
  },
  {
   "cell_type": "code",
   "execution_count": 271,
   "id": "d86da8b8",
   "metadata": {},
   "outputs": [
    {
     "data": {
      "text/plain": [
       "meat type\n",
       "BEEF       702.03\n",
       "PIG          0.01\n",
       "POULTRY    413.32\n",
       "SHEEP      244.15\n",
       "Name: value, dtype: float64"
      ]
     },
     "execution_count": 271,
     "metadata": {},
     "output_type": "execute_result"
    }
   ],
   "source": [
    "#Since Pork was the most consumed meat, it was imperative if factors like religion can affect pork consumption in I salamoc countries\n",
    "\n",
    "df_pak_1 = df_pak.groupby('meat type')['value'].mean().round(2)\n",
    "df_pak_1"
   ]
  },
  {
   "cell_type": "code",
   "execution_count": 272,
   "id": "5f013689",
   "metadata": {},
   "outputs": [
    {
     "data": {
      "image/png": "[encoded data removed]",
      "text/plain": [
       "<Figure size 640x480 with 1 Axes>"
      ]
     },
     "metadata": {},
     "output_type": "display_data"
    }
   ],
   "source": [
    "plt.pie(df_pak_1,autopct = '%.2f%%',labels = df_pak_1.index)\n",
    "plt.title('Meat consumption in Pakistan')\n",
    "plt.show()"
   ]
  },
  {
   "cell_type": "code",
   "execution_count": 273,
   "id": "df7a1632",
   "metadata": {},
   "outputs": [
    {
     "data": {
      "image/png": "[encoded data removed]",
      "text/plain": [
       "<Figure size 640x480 with 1 Axes>"
      ]
     },
     "metadata": {},
     "output_type": "display_data"
    }
   ],
   "source": [
    "plt.barh(df_pak_1.index,df_pak_1)\n",
    "plt.title(\"average number of meat consumption in Pakistan\")\n",
    "plt.show()"
   ]
  },
  {
   "cell_type": "code",
   "execution_count": null,
   "id": "e910d0b9",
   "metadata": {},
   "outputs": [],
   "source": []
  },
  {
   "cell_type": "code",
   "execution_count": 210,
   "id": "c124488b",
   "metadata": {},
   "outputs": [
    {
     "data": {
      "text/html": [
       "<div>\n",
       "<style scoped>\n",
       "    .dataframe tbody tr th:only-of-type {\n",
       "        vertical-align: middle;\n",
       "    }\n",
       "\n",
       "    .dataframe tbody tr th {\n",
       "        vertical-align: top;\n",
       "    }\n",
       "\n",
       "    .dataframe thead th {\n",
       "        text-align: right;\n",
       "    }\n",
       "</style>\n",
       "<table border=\"1\" class=\"dataframe\">\n",
       "  <thead>\n",
       "    <tr style=\"text-align: right;\">\n",
       "      <th></th>\n",
       "      <th>year</th>\n",
       "      <th>value</th>\n",
       "    </tr>\n",
       "  </thead>\n",
       "  <tbody>\n",
       "    <tr>\n",
       "      <th>0</th>\n",
       "      <td>1990</td>\n",
       "      <td>299335.71</td>\n",
       "    </tr>\n",
       "    <tr>\n",
       "      <th>1</th>\n",
       "      <td>1991</td>\n",
       "      <td>329192.78</td>\n",
       "    </tr>\n",
       "    <tr>\n",
       "      <th>2</th>\n",
       "      <td>1992</td>\n",
       "      <td>362400.75</td>\n",
       "    </tr>\n",
       "    <tr>\n",
       "      <th>3</th>\n",
       "      <td>1993</td>\n",
       "      <td>386909.47</td>\n",
       "    </tr>\n",
       "    <tr>\n",
       "      <th>4</th>\n",
       "      <td>1994</td>\n",
       "      <td>408386.69</td>\n",
       "    </tr>\n",
       "    <tr>\n",
       "      <th>5</th>\n",
       "      <td>1995</td>\n",
       "      <td>424033.63</td>\n",
       "    </tr>\n",
       "    <tr>\n",
       "      <th>6</th>\n",
       "      <td>1996</td>\n",
       "      <td>424783.81</td>\n",
       "    </tr>\n",
       "    <tr>\n",
       "      <th>7</th>\n",
       "      <td>1997</td>\n",
       "      <td>449674.70</td>\n",
       "    </tr>\n",
       "    <tr>\n",
       "      <th>8</th>\n",
       "      <td>1998</td>\n",
       "      <td>467560.05</td>\n",
       "    </tr>\n",
       "    <tr>\n",
       "      <th>9</th>\n",
       "      <td>1999</td>\n",
       "      <td>480097.44</td>\n",
       "    </tr>\n",
       "    <tr>\n",
       "      <th>10</th>\n",
       "      <td>2000</td>\n",
       "      <td>612104.11</td>\n",
       "    </tr>\n",
       "    <tr>\n",
       "      <th>11</th>\n",
       "      <td>2001</td>\n",
       "      <td>623954.57</td>\n",
       "    </tr>\n",
       "    <tr>\n",
       "      <th>12</th>\n",
       "      <td>2002</td>\n",
       "      <td>644948.84</td>\n",
       "    </tr>\n",
       "    <tr>\n",
       "      <th>13</th>\n",
       "      <td>2003</td>\n",
       "      <td>656696.12</td>\n",
       "    </tr>\n",
       "    <tr>\n",
       "      <th>14</th>\n",
       "      <td>2004</td>\n",
       "      <td>666981.96</td>\n",
       "    </tr>\n",
       "    <tr>\n",
       "      <th>15</th>\n",
       "      <td>2005</td>\n",
       "      <td>683399.08</td>\n",
       "    </tr>\n",
       "    <tr>\n",
       "      <th>16</th>\n",
       "      <td>2006</td>\n",
       "      <td>702877.16</td>\n",
       "    </tr>\n",
       "    <tr>\n",
       "      <th>17</th>\n",
       "      <td>2007</td>\n",
       "      <td>714538.31</td>\n",
       "    </tr>\n",
       "    <tr>\n",
       "      <th>18</th>\n",
       "      <td>2008</td>\n",
       "      <td>736212.78</td>\n",
       "    </tr>\n",
       "    <tr>\n",
       "      <th>19</th>\n",
       "      <td>2009</td>\n",
       "      <td>743020.95</td>\n",
       "    </tr>\n",
       "    <tr>\n",
       "      <th>20</th>\n",
       "      <td>2010</td>\n",
       "      <td>766387.46</td>\n",
       "    </tr>\n",
       "    <tr>\n",
       "      <th>21</th>\n",
       "      <td>2011</td>\n",
       "      <td>774776.86</td>\n",
       "    </tr>\n",
       "    <tr>\n",
       "      <th>22</th>\n",
       "      <td>2012</td>\n",
       "      <td>792354.03</td>\n",
       "    </tr>\n",
       "    <tr>\n",
       "      <th>23</th>\n",
       "      <td>2013</td>\n",
       "      <td>808427.43</td>\n",
       "    </tr>\n",
       "    <tr>\n",
       "      <th>24</th>\n",
       "      <td>2014</td>\n",
       "      <td>820562.13</td>\n",
       "    </tr>\n",
       "    <tr>\n",
       "      <th>25</th>\n",
       "      <td>2015</td>\n",
       "      <td>834066.92</td>\n",
       "    </tr>\n",
       "    <tr>\n",
       "      <th>26</th>\n",
       "      <td>2016</td>\n",
       "      <td>844946.38</td>\n",
       "    </tr>\n",
       "    <tr>\n",
       "      <th>27</th>\n",
       "      <td>2017</td>\n",
       "      <td>852170.75</td>\n",
       "    </tr>\n",
       "    <tr>\n",
       "      <th>28</th>\n",
       "      <td>2018</td>\n",
       "      <td>861105.11</td>\n",
       "    </tr>\n",
       "    <tr>\n",
       "      <th>29</th>\n",
       "      <td>2019</td>\n",
       "      <td>863938.72</td>\n",
       "    </tr>\n",
       "    <tr>\n",
       "      <th>30</th>\n",
       "      <td>2020</td>\n",
       "      <td>880814.24</td>\n",
       "    </tr>\n",
       "    <tr>\n",
       "      <th>31</th>\n",
       "      <td>2021</td>\n",
       "      <td>889660.36</td>\n",
       "    </tr>\n",
       "    <tr>\n",
       "      <th>32</th>\n",
       "      <td>2022</td>\n",
       "      <td>897432.66</td>\n",
       "    </tr>\n",
       "    <tr>\n",
       "      <th>33</th>\n",
       "      <td>2023</td>\n",
       "      <td>905960.91</td>\n",
       "    </tr>\n",
       "    <tr>\n",
       "      <th>34</th>\n",
       "      <td>2024</td>\n",
       "      <td>914282.67</td>\n",
       "    </tr>\n",
       "    <tr>\n",
       "      <th>35</th>\n",
       "      <td>2025</td>\n",
       "      <td>922567.45</td>\n",
       "    </tr>\n",
       "    <tr>\n",
       "      <th>36</th>\n",
       "      <td>2026</td>\n",
       "      <td>930990.40</td>\n",
       "    </tr>\n",
       "    <tr>\n",
       "      <th>37</th>\n",
       "      <td>2027</td>\n",
       "      <td>939337.20</td>\n",
       "    </tr>\n",
       "    <tr>\n",
       "      <th>38</th>\n",
       "      <td>2028</td>\n",
       "      <td>947789.04</td>\n",
       "    </tr>\n",
       "  </tbody>\n",
       "</table>\n",
       "</div>"
      ],
      "text/plain": [
       "    year      value\n",
       "0   1990  299335.71\n",
       "1   1991  329192.78\n",
       "2   1992  362400.75\n",
       "3   1993  386909.47\n",
       "4   1994  408386.69\n",
       "5   1995  424033.63\n",
       "6   1996  424783.81\n",
       "7   1997  449674.70\n",
       "8   1998  467560.05\n",
       "9   1999  480097.44\n",
       "10  2000  612104.11\n",
       "11  2001  623954.57\n",
       "12  2002  644948.84\n",
       "13  2003  656696.12\n",
       "14  2004  666981.96\n",
       "15  2005  683399.08\n",
       "16  2006  702877.16\n",
       "17  2007  714538.31\n",
       "18  2008  736212.78\n",
       "19  2009  743020.95\n",
       "20  2010  766387.46\n",
       "21  2011  774776.86\n",
       "22  2012  792354.03\n",
       "23  2013  808427.43\n",
       "24  2014  820562.13\n",
       "25  2015  834066.92\n",
       "26  2016  844946.38\n",
       "27  2017  852170.75\n",
       "28  2018  861105.11\n",
       "29  2019  863938.72\n",
       "30  2020  880814.24\n",
       "31  2021  889660.36\n",
       "32  2022  897432.66\n",
       "33  2023  905960.91\n",
       "34  2024  914282.67\n",
       "35  2025  922567.45\n",
       "36  2026  930990.40\n",
       "37  2027  939337.20\n",
       "38  2028  947789.04"
      ]
     },
     "execution_count": 210,
     "metadata": {},
     "output_type": "execute_result"
    }
   ],
   "source": [
    "#the trend of meat consumption across the years.\n",
    "\n",
    "df_3 = df.groupby('year')['value'].sum().round(2).reset_index()\n",
    "df_3"
   ]
  },
  {
   "cell_type": "code",
   "execution_count": 211,
   "id": "0efc9596",
   "metadata": {},
   "outputs": [
    {
     "data": {
      "image/png": "[encoded data removed]",
      "text/plain": [
       "<Figure size 640x480 with 1 Axes>"
      ]
     },
     "metadata": {},
     "output_type": "display_data"
    }
   ],
   "source": [
    "plt.plot(df_3['year'], df_3['value'], color = 'green')\n",
    "plt.xticks( rotation='vertical')\n",
    "\n",
    "plt.show()"
   ]
  },
  {
   "cell_type": "code",
   "execution_count": null,
   "id": "1f4a6e00",
   "metadata": {},
   "outputs": [],
   "source": [
    "# it can be seen clearly that, meat consumption increases as the years increases. \n",
    "# But the is the need to look at what happened around 1999 to 2002, since there is a sharp increment in meat consumption"
   ]
  },
  {
   "cell_type": "code",
   "execution_count": null,
   "id": "46a9a6c7",
   "metadata": {},
   "outputs": [],
   "source": []
  },
  {
   "cell_type": "code",
   "execution_count": null,
   "id": "c62c2580",
   "metadata": {},
   "outputs": [],
   "source": []
  },
  {
   "cell_type": "code",
   "execution_count": null,
   "id": "d7f0fcba",
   "metadata": {},
   "outputs": [],
   "source": []
  }
 ],
 "metadata": {
  "kernelspec": {
   "display_name": "Python 3 (ipykernel)",
   "language": "python",
   "name": "python3"
  },
  "language_info": {
   "codemirror_mode": {
    "name": "ipython",
    "version": 3
   },
   "file_extension": ".py",
   "mimetype": "text/x-python",
   "name": "python",
   "nbconvert_exporter": "python",
   "pygments_lexer": "ipython3",
   "version": "3.9.13"
  }
 },
 "nbformat": 4,
 "nbformat_minor": 5
}
