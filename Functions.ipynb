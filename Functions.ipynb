{
 "cells": [
  {
   "cell_type": "markdown",
   "id": "352dd2e3",
   "metadata": {},
   "source": [
    "### Q1\n",
    "\n",
    "Define a python function that calculate the perimeter of the rectangle\n",
    "\n",
    "Formular\n",
    "\n",
    "formular => 2 X length + 2 X Width"
   ]
  },
  {
   "cell_type": "code",
   "execution_count": 7,
   "id": "66186e70",
   "metadata": {},
   "outputs": [],
   "source": [
    "# a function to determine the perimeter of a rectangle\n",
    "def perimeter(length,width):\n",
    "    \"\"\"\n",
    "    This fuction return the perimeter of a rectangle by \n",
    "    inputting the dimensions of\n",
    "    length and width.\n",
    "    \"\"\"\n",
    "    P = 2*length + 2*width\n",
    "    return P"
   ]
  },
  {
   "cell_type": "code",
   "execution_count": 8,
   "id": "afeadddd",
   "metadata": {},
   "outputs": [
    {
     "data": {
      "text/plain": [
       "16"
      ]
     },
     "execution_count": 8,
     "metadata": {},
     "output_type": "execute_result"
    }
   ],
   "source": [
    "perimeter(5,3)"
   ]
  },
  {
   "cell_type": "code",
   "execution_count": null,
   "id": "0ab504e3",
   "metadata": {},
   "outputs": [],
   "source": []
  },
  {
   "cell_type": "markdown",
   "id": "a56ccec8",
   "metadata": {},
   "source": [
    "### Q2\n",
    "Define the function to calculate the area of a circle. Round the answer to 3 decimal places.\n",
    "\n",
    "**Preamble**\n",
    " - Take pi as 22/7\n",
    " - formular pi x r ** 2"
   ]
  },
  {
   "cell_type": "code",
   "execution_count": 9,
   "id": "6c82288f",
   "metadata": {},
   "outputs": [],
   "source": [
    "def area(r):\n",
    "    ans = 22/7 * r**2\n",
    "    return round(ans,3)"
   ]
  },
  {
   "cell_type": "code",
   "execution_count": 10,
   "id": "8580075e",
   "metadata": {},
   "outputs": [
    {
     "data": {
      "text/plain": [
       "380.286"
      ]
     },
     "execution_count": 10,
     "metadata": {},
     "output_type": "execute_result"
    }
   ],
   "source": [
    "area(11)"
   ]
  },
  {
   "cell_type": "code",
   "execution_count": null,
   "id": "a892e19e",
   "metadata": {},
   "outputs": [],
   "source": []
  },
  {
   "cell_type": "markdown",
   "id": "be5a6965",
   "metadata": {},
   "source": [
    "### Q3\n",
    "Define a function that takes a list of numbers and print out the **mean**, **median** and **mode**.\n",
    "\n",
    "- Test your function with the list b\n",
    "\n",
    "`b = [2,3,4,6,7,3,4,3,2,1,3]`"
   ]
  },
  {
   "cell_type": "code",
   "execution_count": 11,
   "id": "f7563c97",
   "metadata": {},
   "outputs": [
    {
     "data": {
      "text/plain": [
       "[1, 2, 2, 3, 3, 3, 3, 4, 4, 6, 7]"
      ]
     },
     "execution_count": 11,
     "metadata": {},
     "output_type": "execute_result"
    }
   ],
   "source": [
    "b = [2,3,4,6,7,3,4,3,2,1,3]\n",
    "b.sort()\n",
    "b"
   ]
  },
  {
   "cell_type": "code",
   "execution_count": null,
   "id": "b91a0545",
   "metadata": {},
   "outputs": [],
   "source": []
  },
  {
   "cell_type": "code",
   "execution_count": 32,
   "id": "a9376296",
   "metadata": {},
   "outputs": [
    {
     "name": "stdout",
     "output_type": "stream",
     "text": [
      "3\n",
      "3\n",
      "3.4545454545454546\n"
     ]
    }
   ],
   "source": [
    "def stat(List):\n",
    "    counter = 0\n",
    "    num = List[0]\n",
    "     \n",
    "    for i in List:\n",
    "        freq = List.count(i)\n",
    "        if(freq > counter):\n",
    "            counter = freq\n",
    "            num = i\n",
    " \n",
    "    return num\n",
    " \n",
    "List = b\n",
    "print(stat(List))\n",
    "print(b[5])\n",
    "mean = sum(b)/len(b) \n",
    "print(mean)"
   ]
  },
  {
   "cell_type": "code",
   "execution_count": null,
   "id": "f9b90c89",
   "metadata": {},
   "outputs": [],
   "source": [
    "\n",
    "            "
   ]
  },
  {
   "cell_type": "markdown",
   "id": "3313ab10",
   "metadata": {},
   "source": [
    "### Q4\n",
    "Define a function that prints out the list of the first 20 prime numbers"
   ]
  },
  {
   "cell_type": "code",
   "execution_count": 33,
   "id": "8e2eb7fd",
   "metadata": {},
   "outputs": [],
   "source": [
    "def print_first_20_primes():\n",
    "    primes = []\n",
    "    num = 2\n",
    "    while len(primes) < 20:\n",
    "        # Check if num is a prime number\n",
    "        is_prime = True\n",
    "        for i in range(2, int(num**0.5) + 1):\n",
    "            if num % i == 0:\n",
    "                is_prime = False\n",
    "                break\n",
    "        # If num is prime, add it to the list\n",
    "        if is_prime:\n",
    "            primes.append(num)\n",
    "        num += 1\n",
    "    # Print the list of prime numbers\n",
    "    print(primes)"
   ]
  },
  {
   "cell_type": "code",
   "execution_count": 34,
   "id": "6c2ab099",
   "metadata": {},
   "outputs": [
    {
     "name": "stdout",
     "output_type": "stream",
     "text": [
      "[2, 3, 5, 7, 11, 13, 17, 19, 23, 29, 31, 37, 41, 43, 47, 53, 59, 61, 67, 71]\n"
     ]
    }
   ],
   "source": [
    "print_first_20_primes()"
   ]
  },
  {
   "cell_type": "markdown",
   "id": "ef1c5863",
   "metadata": {},
   "source": [
    "#### Q5\n",
    "Define a function that takes a list of strings and print out the string and the length of the string.\n",
    "\n",
    "**Example of expected output**\n",
    "\n",
    "{\"Kofi\":4,\n",
    "\"Ama\":3,\n",
    "\"Sedem\":5}"
   ]
  },
  {
   "cell_type": "code",
   "execution_count": 35,
   "id": "bd2c8ab6",
   "metadata": {},
   "outputs": [],
   "source": [
    "def length(name_list):\n",
    "    name_length = {}\n",
    "    for length in name_list:\n",
    "        name_length[length] = len(length)\n",
    "    print(name_length)"
   ]
  },
  {
   "cell_type": "code",
   "execution_count": 36,
   "id": "f4baaed0",
   "metadata": {},
   "outputs": [],
   "source": [
    "name_list = [\"Michael\", \"Prince\"]"
   ]
  },
  {
   "cell_type": "code",
   "execution_count": 37,
   "id": "b7c701ac",
   "metadata": {},
   "outputs": [
    {
     "name": "stdout",
     "output_type": "stream",
     "text": [
      "{'Michael': 7, 'Prince': 6}\n"
     ]
    }
   ],
   "source": [
    "length(name_list)"
   ]
  },
  {
   "cell_type": "code",
   "execution_count": null,
   "id": "5e95dc6c",
   "metadata": {},
   "outputs": [],
   "source": []
  },
  {
   "cell_type": "markdown",
   "id": "5072c8d8",
   "metadata": {},
   "source": [
    "### Q6\n",
    "Define a function that takes a list of strings and numbers and print out only the strings and the position of the strings.\n",
    "\n",
    "**Preamble**\n",
    "\n",
    "names = ['sedem', 'Kofi', 'kobla']\n",
    "\n",
    "**Expected Output**\n",
    "\n",
    "{'sedem': P0, 'Kofi': P1, 'kobla': P2}"
   ]
  },
  {
   "cell_type": "code",
   "execution_count": 38,
   "id": "d29327fd",
   "metadata": {},
   "outputs": [],
   "source": [
    "def string_positions(lst):\n",
    "    position_dict = {}\n",
    "    for i, item in enumerate(lst):\n",
    "        if isinstance(item, str):\n",
    "            position_dict[item] = 'P{}'.format(i)\n",
    "    print(position_dict)\n",
    "    "
   ]
  },
  {
   "cell_type": "code",
   "execution_count": 39,
   "id": "cde227c7",
   "metadata": {},
   "outputs": [
    {
     "name": "stdout",
     "output_type": "stream",
     "text": [
      "{'sedem': 'P0', 'Kofi': 'P2', 'kobla': 'P3'}\n"
     ]
    }
   ],
   "source": [
    "lst = ['sedem', 1, 'Kofi', 'kobla', 3]\n",
    "string_positions(lst)\n"
   ]
  },
  {
   "cell_type": "code",
   "execution_count": null,
   "id": "6d0c9d18",
   "metadata": {},
   "outputs": [],
   "source": []
  },
  {
   "cell_type": "markdown",
   "id": "5593b665",
   "metadata": {},
   "source": [
    "### Q7\n",
    "Define a function that returns whether the sum of a person age and person's date of birth equals 2023\n",
    "\n",
    "**Preamble**\n",
    "\n",
    "2001 + 22 => True\n",
    "\n",
    "2002 + 5 => False"
   ]
  },
  {
   "cell_type": "code",
   "execution_count": 40,
   "id": "8d76399d",
   "metadata": {},
   "outputs": [],
   "source": [
    "def person(age,dob):\n",
    "    if age + dob == 2023:\n",
    "        print(f\"{dob} + {age} => True\")\n",
    "    else:\n",
    "        print(f\"{dob} + {age} => False\")\n",
    "        \n",
    "    return"
   ]
  },
  {
   "cell_type": "code",
   "execution_count": 41,
   "id": "e485c100",
   "metadata": {},
   "outputs": [
    {
     "name": "stdout",
     "output_type": "stream",
     "text": [
      "24 + 1999 => True\n"
     ]
    }
   ],
   "source": [
    "person(1999,24)"
   ]
  },
  {
   "cell_type": "code",
   "execution_count": null,
   "id": "b1638373",
   "metadata": {},
   "outputs": [],
   "source": []
  },
  {
   "cell_type": "markdown",
   "id": "f831e652",
   "metadata": {},
   "source": [
    "### Q8\n",
    "Define a function that determine whether a particular year is a **decade**, the output should be a boolean (True or False)\n"
   ]
  },
  {
   "cell_type": "code",
   "execution_count": 42,
   "id": "a8fd5235",
   "metadata": {},
   "outputs": [],
   "source": [
    "def decade(year):\n",
    "    if year % 10 == 0:\n",
    "        return True\n",
    "    else:\n",
    "        return False"
   ]
  },
  {
   "cell_type": "code",
   "execution_count": 43,
   "id": "28c8f45d",
   "metadata": {},
   "outputs": [
    {
     "data": {
      "text/plain": [
       "True"
      ]
     },
     "execution_count": 43,
     "metadata": {},
     "output_type": "execute_result"
    }
   ],
   "source": [
    "decade(2020)"
   ]
  },
  {
   "cell_type": "code",
   "execution_count": null,
   "id": "665e2a8e",
   "metadata": {},
   "outputs": [],
   "source": []
  },
  {
   "cell_type": "markdown",
   "id": "211c19e3",
   "metadata": {},
   "source": [
    "### Q9\n",
    "Define a function that contains a list of strings and punctuations,the output should on return the list of punctuations.\n"
   ]
  },
  {
   "cell_type": "code",
   "execution_count": 44,
   "id": "019a62f9",
   "metadata": {},
   "outputs": [],
   "source": [
    "import string\n",
    "def find_punctuations(input_list):\n",
    "    punctuations = string.punctuation\n",
    "    \n",
    "    \"\"\"\n",
    "   This function returns on the punctuation in a list\n",
    "    \"\"\"\n",
    " \n",
    "    \n",
    "\n",
    "    found_punctuations = []\n",
    "    \n",
    "    \n",
    "    for s in input_list:\n",
    "        \n",
    "        for c in s:\n",
    "            \n",
    "            if c in punctuations:\n",
    "                \n",
    "                found_punctuations.append(c)\n",
    "    \n",
    "\n",
    "    return found_punctuations\n"
   ]
  },
  {
   "cell_type": "code",
   "execution_count": 45,
   "id": "b5406fef",
   "metadata": {},
   "outputs": [
    {
     "name": "stdout",
     "output_type": "stream",
     "text": [
      "[',', '!', '.', '?']\n"
     ]
    }
   ],
   "source": [
    "input_list = [\"Hello, Bad!\", \"This is Blossom Academy.\", \"Another sentence?\"]\n",
    "punctuations_list = find_punctuations(input_list)\n",
    "print(punctuations_list)\n"
   ]
  },
  {
   "cell_type": "code",
   "execution_count": null,
   "id": "b19b1513",
   "metadata": {},
   "outputs": [],
   "source": []
  },
  {
   "cell_type": "code",
   "execution_count": null,
   "id": "dcb970ef",
   "metadata": {},
   "outputs": [],
   "source": []
  },
  {
   "cell_type": "markdown",
   "id": "34bae9ec",
   "metadata": {},
   "source": [
    "### Q10\n",
    "\n",
    "Define a lambda function that print out the cubic root of a list of numbers"
   ]
  },
  {
   "cell_type": "code",
   "execution_count": 46,
   "id": "9ac2237f",
   "metadata": {},
   "outputs": [],
   "source": [
    "cube_root = lambda lst: print([round(num**(1/3) ,3) for num in lst])\n"
   ]
  },
  {
   "cell_type": "code",
   "execution_count": 47,
   "id": "f2c7077f",
   "metadata": {},
   "outputs": [
    {
     "name": "stdout",
     "output_type": "stream",
     "text": [
      "[2.0, 3.0, 4.0, 5.0, 6.0]\n"
     ]
    }
   ],
   "source": [
    "nums = [8, 27, 64, 125, 216]\n",
    "cube_root(nums)\n"
   ]
  },
  {
   "cell_type": "code",
   "execution_count": null,
   "id": "d29e8a09",
   "metadata": {},
   "outputs": [],
   "source": []
  },
  {
   "cell_type": "markdown",
   "id": "37974632",
   "metadata": {},
   "source": [
    "### Q11\n",
    "Define a lambda function that print out the cube of a list of numbers"
   ]
  },
  {
   "cell_type": "code",
   "execution_count": 48,
   "id": "5d66dc72",
   "metadata": {},
   "outputs": [],
   "source": [
    "cube = lambda lst: print([i**3 for i in lst])"
   ]
  },
  {
   "cell_type": "code",
   "execution_count": 49,
   "id": "10942be9",
   "metadata": {},
   "outputs": [
    {
     "name": "stdout",
     "output_type": "stream",
     "text": [
      "[1, 8, 27, 64]\n"
     ]
    }
   ],
   "source": [
    "num = [1,2,3,4]\n",
    "cube(num)"
   ]
  },
  {
   "cell_type": "code",
   "execution_count": null,
   "id": "b60d38c0",
   "metadata": {},
   "outputs": [],
   "source": []
  },
  {
   "cell_type": "markdown",
   "id": "f228e5a4",
   "metadata": {},
   "source": [
    "### Q12\n",
    "Define a function that take a list of list of numbers and return a list that contains the average of each sublist using map."
   ]
  },
  {
   "cell_type": "code",
   "execution_count": 50,
   "id": "e0115441",
   "metadata": {},
   "outputs": [],
   "source": [
    "def avg(numbers):\n",
    "    return sum(numbers)/len(numbers)"
   ]
  },
  {
   "cell_type": "code",
   "execution_count": 51,
   "id": "9e42804b",
   "metadata": {},
   "outputs": [],
   "source": [
    "list_numbers = [[5,2,4],[6,3,1],[4,6,10]]"
   ]
  },
  {
   "cell_type": "code",
   "execution_count": 52,
   "id": "5c098efd",
   "metadata": {},
   "outputs": [
    {
     "name": "stdout",
     "output_type": "stream",
     "text": [
      "[3.6666666666666665, 3.3333333333333335, 6.666666666666667]\n"
     ]
    }
   ],
   "source": [
    "print(list(map(avg,list_numbers)))"
   ]
  },
  {
   "cell_type": "code",
   "execution_count": null,
   "id": "9e436817",
   "metadata": {},
   "outputs": [],
   "source": []
  },
  {
   "cell_type": "markdown",
   "id": "0fd5cd06",
   "metadata": {},
   "source": [
    "### Q13\n",
    "Define a function that takes a list of strings and filter out strings that are upper case."
   ]
  },
  {
   "cell_type": "code",
   "execution_count": 53,
   "id": "0409b201",
   "metadata": {},
   "outputs": [],
   "source": [
    "def filter_uppercase(strings):\n",
    "    \"\"\"\n",
    "    Filters out the uppercase strings from a list of strings.\n",
    "    \"\"\"\n",
    "    return [s for s in strings if s.isupper()]\n"
   ]
  },
  {
   "cell_type": "code",
   "execution_count": 54,
   "id": "387d4aed",
   "metadata": {},
   "outputs": [
    {
     "name": "stdout",
     "output_type": "stream",
     "text": [
      "['AKUA', 'AMA', 'YAA']\n"
     ]
    }
   ],
   "source": [
    "my_list = [\"Martha\",\"AKUA\",\"AMA\",\"YAA\"]\n",
    "filtered_list = filter_uppercase(my_list)\n",
    "print(filtered_list)"
   ]
  },
  {
   "cell_type": "code",
   "execution_count": null,
   "id": "b57ac72a",
   "metadata": {},
   "outputs": [],
   "source": []
  },
  {
   "cell_type": "markdown",
   "id": "d0dddd17",
   "metadata": {},
   "source": [
    "### Q14\n",
    "Define a function that takes a list of numbers and print out the numbers which are prime in the list."
   ]
  },
  {
   "cell_type": "code",
   "execution_count": 55,
   "id": "c6338c81",
   "metadata": {},
   "outputs": [],
   "source": [
    "def primes(numbers):\n",
    "    \"\"\"\n",
    "    Prints the prime numbers in a list of numbers.\n",
    "    \"\"\"\n",
    "    def prime(n):\n",
    "        \"\"\"\n",
    "        Returns True if a number is prime, False otherwise.\n",
    "        \"\"\"\n",
    "        if n < 2:\n",
    "            return False\n",
    "        for i in range(2, int(n**0.5) + 1):\n",
    "            if n % i == 0:\n",
    "                return False\n",
    "        return True\n",
    "    \n",
    "    primes = [n for n in numbers if prime(n)]\n",
    "    print(\"Prime numbers in the list are:\", primes)\n"
   ]
  },
  {
   "cell_type": "code",
   "execution_count": 56,
   "id": "47d1f432",
   "metadata": {},
   "outputs": [
    {
     "name": "stdout",
     "output_type": "stream",
     "text": [
      "Prime numbers in the list are: [2, 3, 5, 7]\n"
     ]
    }
   ],
   "source": [
    "lst = [1, 2, 3, 4, 5, 6, 7, 8, 9, 10]\n",
    "primes(lst)"
   ]
  },
  {
   "cell_type": "code",
   "execution_count": null,
   "id": "9c730fbe",
   "metadata": {},
   "outputs": [],
   "source": []
  },
  {
   "cell_type": "markdown",
   "id": "240741dc",
   "metadata": {},
   "source": [
    "### Q15\n",
    "Define a function that take a list of strings and return a zip of each string and length of a string."
   ]
  },
  {
   "cell_type": "code",
   "execution_count": 57,
   "id": "a4807b17",
   "metadata": {},
   "outputs": [],
   "source": [
    "def my_zip(st):\n",
    "    return [(s, len(s)) for s in st]"
   ]
  },
  {
   "cell_type": "code",
   "execution_count": 58,
   "id": "4a6c3349",
   "metadata": {},
   "outputs": [
    {
     "name": "stdout",
     "output_type": "stream",
     "text": [
      "[[('train', 5), ('bike', 4), ('car', 3)]]\n"
     ]
    }
   ],
   "source": [
    "mine = [\"train\", \"bike\", \"car\"]\n",
    "lst = my_zip(mine)\n",
    "print([lst])"
   ]
  },
  {
   "cell_type": "code",
   "execution_count": null,
   "id": "d4bbe7ec",
   "metadata": {},
   "outputs": [],
   "source": []
  },
  {
   "cell_type": "markdown",
   "id": "44a1339f",
   "metadata": {},
   "source": [
    "### Q16\n",
    "Define a function that takes in a number and return the first 12 multiples of the the number.\n",
    "\n",
    "Expected Output\n",
    "\n",
    "2 X 1 = 2\n",
    "\n",
    "to\n",
    "\n",
    "2 X 12 = 24"
   ]
  },
  {
   "cell_type": "code",
   "execution_count": 59,
   "id": "4c25e03a",
   "metadata": {},
   "outputs": [],
   "source": [
    "def times12(any):\n",
    "    for i in range(1,13):\n",
    "        print(f\" 2 x {i} = {2*i} \")\n",
    "        "
   ]
  },
  {
   "cell_type": "code",
   "execution_count": 60,
   "id": "943b2f50",
   "metadata": {},
   "outputs": [
    {
     "name": "stdout",
     "output_type": "stream",
     "text": [
      " 2 x 1 = 2 \n",
      " 2 x 2 = 4 \n",
      " 2 x 3 = 6 \n",
      " 2 x 4 = 8 \n",
      " 2 x 5 = 10 \n",
      " 2 x 6 = 12 \n",
      " 2 x 7 = 14 \n",
      " 2 x 8 = 16 \n",
      " 2 x 9 = 18 \n",
      " 2 x 10 = 20 \n",
      " 2 x 11 = 22 \n",
      " 2 x 12 = 24 \n"
     ]
    }
   ],
   "source": [
    "times12(3)"
   ]
  },
  {
   "cell_type": "code",
   "execution_count": null,
   "id": "f1e5e348",
   "metadata": {},
   "outputs": [],
   "source": []
  },
  {
   "cell_type": "markdown",
   "id": "cd63dd99",
   "metadata": {},
   "source": [
    "### Q17\n",
    "Write a Python function to find the maximum of three numbers.\n",
    "\n",
    "**Do not use the max function**"
   ]
  },
  {
   "cell_type": "code",
   "execution_count": 61,
   "id": "acf29d8b",
   "metadata": {},
   "outputs": [],
   "source": [
    "def maximum(a,b,c):\n",
    "    if a>b and a>c:\n",
    "        return a\n",
    "    elif b>a and b>c:\n",
    "        return b\n",
    "    else:\n",
    "        return c"
   ]
  },
  {
   "cell_type": "code",
   "execution_count": 62,
   "id": "746155a0",
   "metadata": {},
   "outputs": [
    {
     "name": "stdout",
     "output_type": "stream",
     "text": [
      "90\n"
     ]
    }
   ],
   "source": [
    "print(maximum(12,5,90))"
   ]
  },
  {
   "cell_type": "code",
   "execution_count": null,
   "id": "437cb746",
   "metadata": {},
   "outputs": [],
   "source": []
  },
  {
   "cell_type": "markdown",
   "id": "67520c0b",
   "metadata": {},
   "source": [
    "### Q18\n",
    "Write a Python function to multiply all the numbers in a list."
   ]
  },
  {
   "cell_type": "code",
   "execution_count": 63,
   "id": "1a79effc",
   "metadata": {},
   "outputs": [],
   "source": [
    "def multiply(numbers):\n",
    "    \"\"\"\n",
    "    Multiplies all the numbers in a list and returns the result.\n",
    "    \"\"\"\n",
    "    result = 1\n",
    "    for n in numbers:\n",
    "        result *= n\n",
    "    return result\n"
   ]
  },
  {
   "cell_type": "code",
   "execution_count": 64,
   "id": "e095ccb8",
   "metadata": {},
   "outputs": [
    {
     "name": "stdout",
     "output_type": "stream",
     "text": [
      "3628800\n"
     ]
    }
   ],
   "source": [
    "lst = [1, 2, 3, 4, 5,6,7,8,9,10]\n",
    "product = multiply(lst)\n",
    "print(product) \n"
   ]
  },
  {
   "cell_type": "code",
   "execution_count": null,
   "id": "90ad3108",
   "metadata": {},
   "outputs": [],
   "source": []
  },
  {
   "cell_type": "markdown",
   "id": "05891582",
   "metadata": {},
   "source": [
    "### Q19\n",
    "Write a Python program to reverse a string"
   ]
  },
  {
   "cell_type": "code",
   "execution_count": 65,
   "id": "7f4e2cd7",
   "metadata": {},
   "outputs": [],
   "source": [
    "def aa(inp):\n",
    "    \"\"\"\n",
    "    Reverses a string and returns the reversed string.\n",
    "    \"\"\"\n",
    "    return inp[::-1]"
   ]
  },
  {
   "cell_type": "code",
   "execution_count": 66,
   "id": "96faa80e",
   "metadata": {},
   "outputs": [
    {
     "name": "stdout",
     "output_type": "stream",
     "text": [
      "lrig a si amA\n"
     ]
    }
   ],
   "source": [
    "st = \"Ama is a girl\"\n",
    "res = aa(st)\n",
    "print(res)"
   ]
  },
  {
   "cell_type": "code",
   "execution_count": null,
   "id": "2e2f5a30",
   "metadata": {},
   "outputs": [],
   "source": []
  },
  {
   "cell_type": "markdown",
   "id": "b9025ac8",
   "metadata": {},
   "source": [
    "### Q20\n",
    "Write a python function to return the length of a string."
   ]
  },
  {
   "cell_type": "code",
   "execution_count": 67,
   "id": "9a83856e",
   "metadata": {},
   "outputs": [],
   "source": [
    "def string_length(input_str):\n",
    "    return len(my_string)"
   ]
  },
  {
   "cell_type": "code",
   "execution_count": 68,
   "id": "df139196",
   "metadata": {},
   "outputs": [
    {
     "name": "stdout",
     "output_type": "stream",
     "text": [
      "13\n"
     ]
    }
   ],
   "source": [
    "my_string = \"Kofi is going\"\n",
    "length = string_length(my_string)\n",
    "print(length)"
   ]
  },
  {
   "cell_type": "code",
   "execution_count": null,
   "id": "677444b9",
   "metadata": {},
   "outputs": [],
   "source": []
  },
  {
   "cell_type": "markdown",
   "id": "8d1ee176",
   "metadata": {},
   "source": [
    "Have a lovely coding weekend"
   ]
  }
 ],
 "metadata": {
  "kernelspec": {
   "display_name": "Python 3 (ipykernel)",
   "language": "python",
   "name": "python3"
  },
  "language_info": {
   "codemirror_mode": {
    "name": "ipython",
    "version": 3
   },
   "file_extension": ".py",
   "mimetype": "text/x-python",
   "name": "python",
   "nbconvert_exporter": "python",
   "pygments_lexer": "ipython3",
   "version": "3.9.13"
  }
 },
 "nbformat": 4,
 "nbformat_minor": 5
}
